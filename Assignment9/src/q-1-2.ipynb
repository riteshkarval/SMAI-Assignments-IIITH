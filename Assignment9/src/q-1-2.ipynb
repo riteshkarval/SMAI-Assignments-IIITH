{
 "cells": [
  {
   "cell_type": "code",
   "execution_count": 31,
   "metadata": {},
   "outputs": [],
   "source": [
    "import numpy as np\n",
    "import pandas as pd\n",
    "from copy import deepcopy"
   ]
  },
  {
   "cell_type": "code",
   "execution_count": 32,
   "metadata": {},
   "outputs": [],
   "source": [
    "df_a = pd.read_csv(\"../input_data/reducedData_a.csv\")"
   ]
  },
  {
   "cell_type": "code",
   "execution_count": 33,
   "metadata": {},
   "outputs": [],
   "source": [
    "df_b = pd.read_csv(\"../input_data/reducedData_b.csv\")"
   ]
  },
  {
   "cell_type": "code",
   "execution_count": 34,
   "metadata": {},
   "outputs": [],
   "source": [
    "X_a = df_a.drop('class',axis=1)\n",
    "y_a = df_a['class']"
   ]
  },
  {
   "cell_type": "code",
   "execution_count": 35,
   "metadata": {},
   "outputs": [],
   "source": [
    "X_b = df_b.drop('class',axis=1)\n",
    "y_b = df_b['class']"
   ]
  },
  {
   "cell_type": "code",
   "execution_count": 36,
   "metadata": {
    "scrolled": true
   },
   "outputs": [],
   "source": [
    "from numpy import mean\n",
    "from numpy import cov\n",
    "from numpy.linalg import eig"
   ]
  },
  {
   "cell_type": "code",
   "execution_count": 37,
   "metadata": {},
   "outputs": [],
   "source": [
    "def euclidean(v1,v2):\n",
    "    ary = spatial.distance.cdist(v1,v2, metric='minkowski')\n",
    "    return ary[0,0]"
   ]
  },
  {
   "cell_type": "code",
   "execution_count": 38,
   "metadata": {},
   "outputs": [],
   "source": [
    "def distances(a,b):\n",
    "    return np.linalg.norm(a - b, axis=1)"
   ]
  },
  {
   "cell_type": "code",
   "execution_count": 39,
   "metadata": {},
   "outputs": [],
   "source": [
    "def safe_div(x,y):\n",
    "    if y == 0:\n",
    "        return 0\n",
    "    return x / y"
   ]
  },
  {
   "cell_type": "code",
   "execution_count": 40,
   "metadata": {},
   "outputs": [],
   "source": [
    "def purity(clusters,y,labels):\n",
    "    for k in range(5):\n",
    "        purity = 0\n",
    "        labelcounts = np.zeros(len(labels))\n",
    "        for i in range(len(clusters)):\n",
    "            if clusters[i] == k:\n",
    "                labelcounts[labels.index(y[i])] = labelcounts[labels.index(y[i])] +1\n",
    "        print(labelcounts)\n",
    "        purity = np.max(labelcounts)/ np.sum(labelcounts)\n",
    "        print(purity)"
   ]
  },
  {
   "cell_type": "code",
   "execution_count": 41,
   "metadata": {},
   "outputs": [],
   "source": [
    "k = 5\n",
    "centroids = np.asarray(X_a[:5])\n",
    "centroids_old = np.zeros(centroids.shape)"
   ]
  },
  {
   "cell_type": "code",
   "execution_count": 42,
   "metadata": {},
   "outputs": [],
   "source": [
    "error = distances(centroids, centroids_old)\n",
    "error.mean()\n",
    "X_a = np.asarray(X_a)"
   ]
  },
  {
   "cell_type": "code",
   "execution_count": 43,
   "metadata": {},
   "outputs": [],
   "source": [
    "clusters = np.zeros(len(X_a))\n",
    "for ite in range(10):\n",
    "    for i in range(len(X_a)):\n",
    "        distance = distances(X_a[i], centroids)\n",
    "        cluster = np.argmin(distance)\n",
    "        clusters[i] = cluster\n",
    "    centroids_old = deepcopy(centroids)\n",
    "    for i in range(k):\n",
    "        points = [X_a[j] for j in range(len(X_a)) if clusters[j] == i]\n",
    "        centroids[i] = np.mean(points, axis=0)\n",
    "    error = distances(centroids,centroids_old)"
   ]
  },
  {
   "cell_type": "code",
   "execution_count": 44,
   "metadata": {},
   "outputs": [
    {
     "data": {
      "text/plain": [
       "array([0., 1., 2., ..., 4., 2., 4.])"
      ]
     },
     "execution_count": 44,
     "metadata": {},
     "output_type": "execute_result"
    }
   ],
   "source": [
    "clusters"
   ]
  },
  {
   "cell_type": "code",
   "execution_count": 45,
   "metadata": {
    "scrolled": true
   },
   "outputs": [
    {
     "name": "stdout",
     "output_type": "stream",
     "text": [
      "[4.961e+03 6.490e+02 1.600e+01 1.349e+03 4.000e+00]\n",
      "0.7108468261928643\n",
      "[2762. 6894.   49. 5254.    0.]\n",
      "0.4608596831338993\n",
      "[9.5000e+01 3.4312e+04 3.0000e+00 2.9500e+02 0.0000e+00]\n",
      "0.9886759832877107\n",
      "[4.0467e+04 1.0370e+03 5.5300e+02 4.1070e+03 1.5000e+01]\n",
      "0.8763074124602092\n",
      "[19058.  3035.   374.   651.    33.]\n",
      "0.8232041812448706\n"
     ]
    }
   ],
   "source": [
    "purity(clusters,y_a,list(y_a.unique()))"
   ]
  },
  {
   "cell_type": "code",
   "execution_count": 48,
   "metadata": {},
   "outputs": [],
   "source": [
    "# Reduced data B"
   ]
  },
  {
   "cell_type": "code",
   "execution_count": 51,
   "metadata": {},
   "outputs": [],
   "source": [
    "centroids = np.asarray(X_b[:5])\n",
    "centroids_old = np.zeros(centroids.shape)\n",
    "error = distances(centroids, centroids_old)\n",
    "error.mean()\n",
    "X_b = np.asarray(X_b)\n",
    "clusters = np.zeros(len(X_b))\n",
    "for ite in range(10):\n",
    "    for i in range(len(X_b)):\n",
    "        distance = distances(X_b[i], centroids)\n",
    "        cluster = np.argmin(distance)\n",
    "        clusters[i] = cluster\n",
    "    centroids_old = deepcopy(centroids)\n",
    "    for i in range(k):\n",
    "        points = [X_b[j] for j in range(len(X_b)) if clusters[j] == i]\n",
    "        centroids[i] = np.mean(points, axis=0)\n",
    "    error = distances(centroids,centroids_old)"
   ]
  },
  {
   "cell_type": "code",
   "execution_count": 52,
   "metadata": {},
   "outputs": [
    {
     "name": "stdout",
     "output_type": "stream",
     "text": [
      "[5.580e+02 6.894e+03 1.000e+00 3.347e+03 2.000e+00]\n",
      "0.6382151453434549\n",
      "[3.079e+03 2.440e+02 9.100e+01 3.178e+03 3.000e+00]\n",
      "0.4818802122820318\n",
      "[2.4600e+02 3.5788e+04 5.0000e+00 2.2700e+02 1.0000e+00]\n",
      "0.9867924008051396\n",
      "[23629.   629.   608.  4567.    39.]\n",
      "0.8017440282301845\n",
      "[3.9831e+04 2.3720e+03 2.9000e+02 3.3700e+02 7.0000e+00]\n",
      "0.9298270186987885\n"
     ]
    }
   ],
   "source": [
    "purity(clusters,y_b,list(y_b.unique()))"
   ]
  },
  {
   "cell_type": "code",
   "execution_count": null,
   "metadata": {},
   "outputs": [],
   "source": []
  }
 ],
 "metadata": {
  "kernelspec": {
   "display_name": "Python 3",
   "language": "python",
   "name": "python3"
  },
  "language_info": {
   "codemirror_mode": {
    "name": "ipython",
    "version": 3
   },
   "file_extension": ".py",
   "mimetype": "text/x-python",
   "name": "python",
   "nbconvert_exporter": "python",
   "pygments_lexer": "ipython3",
   "version": "3.6.7"
  }
 },
 "nbformat": 4,
 "nbformat_minor": 2
}
