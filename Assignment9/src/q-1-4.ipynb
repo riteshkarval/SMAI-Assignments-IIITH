{
 "cells": [
  {
   "cell_type": "code",
   "execution_count": 1,
   "metadata": {},
   "outputs": [],
   "source": [
    "import numpy as np\n",
    "import matplotlib.pyplot as plt\n",
    "import pandas as pd\n",
    "from sklearn.cluster import AgglomerativeClustering"
   ]
  },
  {
   "cell_type": "code",
   "execution_count": 2,
   "metadata": {},
   "outputs": [],
   "source": [
    "def purity(clusters,y,labels):\n",
    "    for k in range(5):\n",
    "        purity = 0\n",
    "        labelcounts = np.zeros(len(labels))\n",
    "        for i in range(len(clusters)):\n",
    "            if clusters[i] == k:\n",
    "                labelcounts[labels.index(y[i])] = labelcounts[labels.index(y[i])] +1\n",
    "        print(labelcounts)\n",
    "        purity = np.max(labelcounts)/ np.sum(labelcounts)\n",
    "        print(purity)"
   ]
  },
  {
   "cell_type": "code",
   "execution_count": 3,
   "metadata": {},
   "outputs": [],
   "source": [
    "df_a = pd.read_csv(\"../input_data/reducedData_a.csv\")\n",
    "df_b = pd.read_csv(\"../input_data/reducedData_b.csv\")"
   ]
  },
  {
   "cell_type": "code",
   "execution_count": 4,
   "metadata": {},
   "outputs": [],
   "source": [
    "X_a = df_a.drop('class',axis=1)\n",
    "y_a = df_a['class']\n",
    "X_b = df_b.drop('class',axis=1)\n",
    "y_b = df_b['class']"
   ]
  },
  {
   "cell_type": "code",
   "execution_count": 5,
   "metadata": {},
   "outputs": [],
   "source": [
    "cluster = AgglomerativeClustering(n_clusters=5, affinity='euclidean', linkage='single')  \n",
    "clusters = cluster.fit_predict(X_a[:20000])  "
   ]
  },
  {
   "cell_type": "code",
   "execution_count": 6,
   "metadata": {},
   "outputs": [
    {
     "name": "stdout",
     "output_type": "stream",
     "text": [
      "[0. 0. 0. 9. 0.]\n",
      "1.0\n",
      "[10692.  7345.   159.  1761.    11.]\n",
      "0.5354567307692307\n",
      "[0. 0. 0. 9. 0.]\n",
      "1.0\n",
      "[1. 1. 0. 0. 0.]\n",
      "0.5\n",
      "[ 0.  0.  0. 12.  0.]\n",
      "1.0\n"
     ]
    }
   ],
   "source": [
    "purity(clusters,y_a[:20000],list(y_a.unique()))"
   ]
  },
  {
   "cell_type": "code",
   "execution_count": 7,
   "metadata": {},
   "outputs": [],
   "source": [
    "cluster = AgglomerativeClustering(n_clusters=5, affinity='euclidean', linkage='single')  \n",
    "clusters = cluster.fit_predict(X_b[:20000])  "
   ]
  },
  {
   "cell_type": "code",
   "execution_count": 8,
   "metadata": {},
   "outputs": [
    {
     "name": "stdout",
     "output_type": "stream",
     "text": [
      "[10687.  7346.   159.  1790.    11.]\n",
      "0.5345370879807932\n",
      "[1. 0. 0. 0. 0.]\n",
      "1.0\n",
      "[4. 0. 0. 0. 0.]\n",
      "1.0\n",
      "[0. 0. 0. 1. 0.]\n",
      "1.0\n",
      "[1. 0. 0. 0. 0.]\n",
      "1.0\n"
     ]
    }
   ],
   "source": [
    "purity(clusters,y_b[:20000],list(y_b.unique()))"
   ]
  },
  {
   "cell_type": "code",
   "execution_count": null,
   "metadata": {},
   "outputs": [],
   "source": []
  }
 ],
 "metadata": {
  "kernelspec": {
   "display_name": "Python 3",
   "language": "python",
   "name": "python3"
  },
  "language_info": {
   "codemirror_mode": {
    "name": "ipython",
    "version": 3
   },
   "file_extension": ".py",
   "mimetype": "text/x-python",
   "name": "python",
   "nbconvert_exporter": "python",
   "pygments_lexer": "ipython3",
   "version": "3.6.7"
  }
 },
 "nbformat": 4,
 "nbformat_minor": 2
}
