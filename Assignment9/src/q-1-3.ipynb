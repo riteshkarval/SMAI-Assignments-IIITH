{
 "cells": [
  {
   "cell_type": "code",
   "execution_count": 10,
   "metadata": {},
   "outputs": [],
   "source": [
    "import numpy as np\n",
    "import matplotlib.pyplot as plt\n",
    "import pandas as pd\n",
    "from sklearn.mixture import GaussianMixture\n",
    "from sklearn import metrics"
   ]
  },
  {
   "cell_type": "code",
   "execution_count": 11,
   "metadata": {},
   "outputs": [],
   "source": [
    "def purity(clusters,y,labels):\n",
    "    for k in range(5):\n",
    "        purity = 0\n",
    "        labelcounts = np.zeros(len(labels))\n",
    "        for i in range(len(clusters)):\n",
    "            if clusters[i] == k:\n",
    "                labelcounts[labels.index(y[i])] = labelcounts[labels.index(y[i])] +1\n",
    "        print(labelcounts)\n",
    "        purity = np.max(labelcounts)/ np.sum(labelcounts)\n",
    "        print(purity)"
   ]
  },
  {
   "cell_type": "code",
   "execution_count": 12,
   "metadata": {},
   "outputs": [],
   "source": [
    "df_a = pd.read_csv(\"../input_data/reducedData_a.csv\")\n",
    "df_b = pd.read_csv(\"../input_data/reducedData_b.csv\")"
   ]
  },
  {
   "cell_type": "code",
   "execution_count": 13,
   "metadata": {},
   "outputs": [],
   "source": [
    "X_a = df_a.drop('class',axis=1)\n",
    "y_a = df_a['class']\n",
    "X_b = df_b.drop('class',axis=1)\n",
    "y_b = df_b['class']"
   ]
  },
  {
   "cell_type": "code",
   "execution_count": 14,
   "metadata": {},
   "outputs": [
    {
     "data": {
      "text/plain": [
       "(125973, 14)"
      ]
     },
     "execution_count": 14,
     "metadata": {},
     "output_type": "execute_result"
    }
   ],
   "source": [
    "X_a.shape"
   ]
  },
  {
   "cell_type": "markdown",
   "metadata": {},
   "source": [
    "# Reduced data B, \n",
    "due to large values in A, gmm throwed error"
   ]
  },
  {
   "cell_type": "code",
   "execution_count": 16,
   "metadata": {},
   "outputs": [
    {
     "name": "stdout",
     "output_type": "stream",
     "text": [
      "[11498. 11343.   444.  7216.    12.]\n",
      "0.37682299347818965\n",
      "[0. 0. 0. 4. 0.]\n",
      "1.0\n",
      "[4.164e+04 2.282e+03 3.840e+02 4.145e+03 9.000e+00]\n",
      "0.8592653735039207\n",
      "[14205.   799.   167.   291.    31.]\n",
      "0.9168656812754147\n",
      "[    0. 31503.     0.     0.     0.]\n",
      "1.0\n"
     ]
    }
   ],
   "source": [
    "gmm = GaussianMixture(n_components=5)\n",
    "gmm.fit(X_b)\n",
    "clusters = gmm.predict(X_b)\n",
    "purity(clusters,y_b,list(y_b.unique()))"
   ]
  }
 ],
 "metadata": {
  "kernelspec": {
   "display_name": "Python 3",
   "language": "python",
   "name": "python3"
  },
  "language_info": {
   "codemirror_mode": {
    "name": "ipython",
    "version": 3
   },
   "file_extension": ".py",
   "mimetype": "text/x-python",
   "name": "python",
   "nbconvert_exporter": "python",
   "pygments_lexer": "ipython3",
   "version": "3.6.7"
  }
 },
 "nbformat": 4,
 "nbformat_minor": 2
}
