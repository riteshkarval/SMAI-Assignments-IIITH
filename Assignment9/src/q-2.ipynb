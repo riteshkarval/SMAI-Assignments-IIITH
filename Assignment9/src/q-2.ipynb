{
 "cells": [
  {
   "cell_type": "code",
   "execution_count": 52,
   "metadata": {},
   "outputs": [],
   "source": [
    "from sklearn.datasets import load_digits\n",
    "import numpy as np\n",
    "from numpy import mean\n",
    "from numpy import cov\n",
    "from numpy.linalg import eig\n",
    "import pandas as pd"
   ]
  },
  {
   "cell_type": "code",
   "execution_count": 66,
   "metadata": {},
   "outputs": [],
   "source": [
    "digits = load_digits()\n",
    "X = digits.data/15"
   ]
  },
  {
   "cell_type": "code",
   "execution_count": 67,
   "metadata": {},
   "outputs": [],
   "source": [
    "y = digits.target"
   ]
  },
  {
   "cell_type": "code",
   "execution_count": 68,
   "metadata": {},
   "outputs": [],
   "source": [
    "# X_st = (X-np.mean(X,axis=0))/(np.std(X,axis=0))\n",
    "CovarMatrix = np.cov(X.T)\n",
    "eigen_values, eigen_vectors = np.linalg.eig(CovarMatrix)\n",
    "eigen_pair = [(np.abs(eigen_values[i]),eigen_vectors[:,i]) for i in range(len(eigen_vectors))]\n",
    "eigen_pair = pd.DataFrame(eigen_pair, columns = ['eigen value','eigen vector'])\n",
    "eigen_pair = eigen_pair.sort_values(by=['eigen value'], ascending=False)"
   ]
  },
  {
   "cell_type": "code",
   "execution_count": 71,
   "metadata": {},
   "outputs": [
    {
     "data": {
      "text/plain": [
       "array([[ 0.        ,  0.        ,  0.        , ...,  0.        ,\n",
       "         0.        ,  0.        ],\n",
       "       [ 0.        ,  0.00365777,  0.01067109, ..., -0.00071065,\n",
       "         0.00043784, -0.00032916],\n",
       "       [ 0.        ,  0.01067109,  0.10048166, ..., -0.00513529,\n",
       "         0.00627571,  0.00324391],\n",
       "       ...,\n",
       "       [ 0.        , -0.00071065, -0.00513529, ...,  0.15474377,\n",
       "         0.06954909,  0.01278037],\n",
       "       [ 0.        ,  0.00043784,  0.00627571, ...,  0.06954909,\n",
       "         0.07436703,  0.02098127],\n",
       "       [ 0.        , -0.00032916,  0.00324391, ...,  0.01278037,\n",
       "         0.02098127,  0.01537801]])"
      ]
     },
     "execution_count": 71,
     "metadata": {},
     "output_type": "execute_result"
    }
   ],
   "source": [
    "CovarMatrix"
   ]
  },
  {
   "cell_type": "code",
   "execution_count": 72,
   "metadata": {},
   "outputs": [],
   "source": [
    "k =[16,25,36]\n",
    "reduced_data = []"
   ]
  },
  {
   "cell_type": "code",
   "execution_count": null,
   "metadata": {},
   "outputs": [],
   "source": []
  },
  {
   "cell_type": "code",
   "execution_count": 73,
   "metadata": {},
   "outputs": [],
   "source": [
    "for th in k:\n",
    "    a = 0\n",
    "    theta = 0\n",
    "    b = np.sum(eigen_pair.iloc[:,0],axis = 0)\n",
    "    Vm = eigen_pair.iloc[0:th,1] \n",
    "    temp = []\n",
    "    for i in Vm:\n",
    "        temp.append(i)\n",
    "    Vm = np.array(temp)\n",
    "    ReducedData = pd.DataFrame(X.dot(Vm.T))\n",
    "    ReducedData.insert(loc=0, column='class', value=y)\n",
    "    reduced_data.append(ReducedData)"
   ]
  },
  {
   "cell_type": "code",
   "execution_count": 78,
   "metadata": {},
   "outputs": [
    {
     "data": {
      "text/plain": [
       "(1797, 17)"
      ]
     },
     "execution_count": 78,
     "metadata": {},
     "output_type": "execute_result"
    }
   ],
   "source": [
    "reduced_data[0].shape"
   ]
  },
  {
   "cell_type": "code",
   "execution_count": 79,
   "metadata": {},
   "outputs": [],
   "source": [
    "pd.DataFrame(reduced_data[0]).to_csv(\"../input_data/reducedDigits_16.csv\",index=False)\n",
    "pd.DataFrame(reduced_data[1]).to_csv(\"../input_data/reducedDigits_25.csv\",index=False)\n",
    "pd.DataFrame(reduced_data[2]).to_csv(\"../input_data/reducedDigits_36.csv\",index=False)"
   ]
  }
 ],
 "metadata": {
  "kernelspec": {
   "display_name": "Python 3",
   "language": "python",
   "name": "python3"
  },
  "language_info": {
   "codemirror_mode": {
    "name": "ipython",
    "version": 3
   },
   "file_extension": ".py",
   "mimetype": "text/x-python",
   "name": "python",
   "nbconvert_exporter": "python",
   "pygments_lexer": "ipython3",
   "version": "3.6.7"
  }
 },
 "nbformat": 4,
 "nbformat_minor": 2
}
