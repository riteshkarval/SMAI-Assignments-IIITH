{
 "cells": [
  {
   "cell_type": "code",
   "execution_count": 1,
   "metadata": {},
   "outputs": [],
   "source": [
    "import pandas as pd\n",
    "import numpy as np\n",
    "from sklearn.preprocessing import MinMaxScaler"
   ]
  },
  {
   "cell_type": "code",
   "execution_count": 2,
   "metadata": {},
   "outputs": [],
   "source": [
    "from hmmlearn import hmm\n",
    "from sklearn.metrics import mean_squared_error"
   ]
  },
  {
   "cell_type": "code",
   "execution_count": 3,
   "metadata": {},
   "outputs": [
    {
     "name": "stderr",
     "output_type": "stream",
     "text": [
      "Using TensorFlow backend.\n"
     ]
    }
   ],
   "source": [
    "from keras.models import Sequential\n",
    "from keras.layers import Dense\n",
    "from keras.layers import LSTM, GRU, RNN"
   ]
  },
  {
   "cell_type": "code",
   "execution_count": 4,
   "metadata": {},
   "outputs": [],
   "source": [
    "data = pd.read_csv('../input_data/GoogleStocks.csv')\n",
    "data = data.drop('date',1)"
   ]
  },
  {
   "cell_type": "code",
   "execution_count": 5,
   "metadata": {},
   "outputs": [],
   "source": [
    "data = data.iloc[1:]\n",
    "data['avg'] = data[['low', 'high']].mean(axis=1)"
   ]
  },
  {
   "cell_type": "code",
   "execution_count": 6,
   "metadata": {},
   "outputs": [
    {
     "name": "stderr",
     "output_type": "stream",
     "text": [
      "/usr/local/lib/python3.6/dist-packages/sklearn/preprocessing/data.py:334: DataConversionWarning: Data with input dtype int64, float64 were all converted to float64 by MinMaxScaler.\n",
      "  return self.partial_fit(X, y)\n"
     ]
    }
   ],
   "source": [
    "sc = MinMaxScaler(feature_range = (0, 1))\n",
    "scaled_data = sc.fit_transform(data)"
   ]
  },
  {
   "cell_type": "code",
   "execution_count": 7,
   "metadata": {},
   "outputs": [],
   "source": [
    "def RNN3(cells,timesteps):\n",
    "    X_train = []\n",
    "    y_train = []\n",
    "    print('RNN cells:',cells,' Time_Steps:',timesteps, 'layers:3')\n",
    "    for i in range(timesteps, 755):\n",
    "        X_train.append([scaled_data[i-timesteps:i, 5],scaled_data[i-timesteps:i, 1]])\n",
    "        y_train.append(scaled_data[i, 0])\n",
    "    X_train, y_train = np.array(X_train), np.array(y_train)\n",
    "    X_train = np.reshape(X_train, (X_train.shape[0], X_train.shape[2], 2))\n",
    "    model = Sequential()\n",
    "    model.add(GRU(units = cells, return_sequences = True, input_shape = (X_train.shape[1], 2)))\n",
    "    model.add(GRU(units = cells, return_sequences = True))\n",
    "    model.add(GRU(units = cells))\n",
    "    model.add(Dense(units = 1))\n",
    "    model.compile(optimizer = 'adam', loss = 'mean_squared_error', metrics=['accuracy'])\n",
    "    model.fit(X_train, y_train, epochs = 100, batch_size = 32, verbose=0)\n",
    "    preds = model.predict(X_train,batch_size=32, verbose=0)\n",
    "    return preds[:20],y_train[:20]"
   ]
  },
  {
   "cell_type": "code",
   "execution_count": 8,
   "metadata": {},
   "outputs": [
    {
     "name": "stdout",
     "output_type": "stream",
     "text": [
      "RNN cells: 80  Time_Steps: 75 layers:3\n",
      "WARNING:tensorflow:From /home/ritesh/.local/lib/python3.6/site-packages/tensorflow/python/framework/op_def_library.py:263: colocate_with (from tensorflow.python.framework.ops) is deprecated and will be removed in a future version.\n",
      "Instructions for updating:\n",
      "Colocations handled automatically by placer.\n",
      "WARNING:tensorflow:From /home/ritesh/.local/lib/python3.6/site-packages/tensorflow/python/ops/math_ops.py:3066: to_int32 (from tensorflow.python.ops.math_ops) is deprecated and will be removed in a future version.\n",
      "Instructions for updating:\n",
      "Use tf.cast instead.\n"
     ]
    }
   ],
   "source": [
    "rnn_preds, y= RNN3(80,75)"
   ]
  },
  {
   "cell_type": "code",
   "execution_count": 9,
   "metadata": {},
   "outputs": [],
   "source": [
    "def HMM(states, timesteps):\n",
    "    X1_train = []\n",
    "    X2_train = []\n",
    "    y_train = []\n",
    "#     print('States:',states,' Timesteps:',timesteps)\n",
    "    for i in range(timesteps, 755):\n",
    "        X1_train.append(scaled_data[i-timesteps:i, 5])\n",
    "        X2_train.append(scaled_data[i-timesteps:i, 1])\n",
    "        y_train.append(scaled_data[i, 0])\n",
    "    X1_train,X2_train, y_train = np.asarray(X1_train) ,np.asarray(X2_train), np.array(y_train)\n",
    "    X = np.column_stack([X1_train, X2_train])\n",
    "    \n",
    "    \n",
    "    remodel = hmm.GaussianHMM(n_components=states, covariance_type=\"diag\", n_iter=100)\n",
    "    remodel.fit(X)\n",
    "    hidden_states = remodel.predict(X)\n",
    "    expected_returns_and_volumes = np.dot(remodel.transmat_, remodel.means_)\n",
    "    returns_and_volume_columnwise = list(zip(*expected_returns_and_volumes))\n",
    "    expected_returns = returns_and_volume_columnwise[0]\n",
    "    predicted_prices = []\n",
    "    predicted_volumes = []\n",
    "    for idx in range(755-timesteps):\n",
    "        state = hidden_states[idx]\n",
    "        current_price = scaled_data[idx][1]\n",
    "        predicted_prices.append(current_price + expected_returns[state])\n",
    "#     mse = mean_squared_error(predicted_prices,y_train)\n",
    "    return predicted_prices[:20]"
   ]
  },
  {
   "cell_type": "code",
   "execution_count": 10,
   "metadata": {},
   "outputs": [],
   "source": [
    "hmm_preds = HMM(12,75)"
   ]
  },
  {
   "cell_type": "code",
   "execution_count": 11,
   "metadata": {},
   "outputs": [],
   "source": [
    "import matplotlib.pyplot as plt"
   ]
  },
  {
   "cell_type": "code",
   "execution_count": 12,
   "metadata": {},
   "outputs": [
    {
     "name": "stdout",
     "output_type": "stream",
     "text": [
      "RNN predictions, layers = 2, RNN cells = 50 timesteps = 75\n"
     ]
    },
    {
     "data": {
      "image/png": "[encoded data removed]",
      "text/plain": [
       "<Figure size 432x288 with 1 Axes>"
      ]
     },
     "metadata": {
      "needs_background": "light"
     },
     "output_type": "display_data"
    }
   ],
   "source": [
    "print('RNN predictions, layers = 2, RNN cells = 50 timesteps = 75')\n",
    "x = np.arange(20)\n",
    "plt.plot(x,rnn_preds)\n",
    "plt.plot(x,hmm_preds)\n",
    "plt.plot(x,y)\n",
    "\n",
    "plt.legend(['RNN Predictions', 'HMM Predictions', 'Actual Output'], loc='upper left')\n",
    "\n",
    "plt.show()"
   ]
  },
  {
   "cell_type": "code",
   "execution_count": null,
   "metadata": {},
   "outputs": [],
   "source": []
  }
 ],
 "metadata": {
  "kernelspec": {
   "display_name": "Python 3",
   "language": "python",
   "name": "python3"
  },
  "language_info": {
   "codemirror_mode": {
    "name": "ipython",
    "version": 3
   },
   "file_extension": ".py",
   "mimetype": "text/x-python",
   "name": "python",
   "nbconvert_exporter": "python",
   "pygments_lexer": "ipython3",
   "version": "3.6.7"
  }
 },
 "nbformat": 4,
 "nbformat_minor": 2
}
