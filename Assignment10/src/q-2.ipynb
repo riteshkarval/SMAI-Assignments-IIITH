{
 "cells": [
  {
   "cell_type": "code",
   "execution_count": 1,
   "metadata": {},
   "outputs": [],
   "source": [
    "import numpy as np"
   ]
  },
  {
   "cell_type": "code",
   "execution_count": 2,
   "metadata": {},
   "outputs": [],
   "source": [
    "seq_chars = ['A','C','G','T']\n",
    "emmition_prob = {'E':[0.25,0.25,0.25,0.25],\n",
    "                 '5':[0.05, 0, 0.95, 0],\n",
    "                 'I':[0.4, 0.1, 0.1, 0.4]}\n",
    "transition_prob = {'^':{'E':1},\n",
    "                   'E':{'E':0.9, '5':0.1},\n",
    "                   '5':{'I':1},\n",
    "                   'I':{'I':0.9,'$':0.1}}"
   ]
  },
  {
   "cell_type": "code",
   "execution_count": 3,
   "metadata": {},
   "outputs": [],
   "source": [
    "sequence = list(\"CTTCATGTGAAAGCAGACGTAAGTCA\")\n",
    "state_path = list(\"EEEEEEEEEEEEEEEEEE5IIIIIII$\")"
   ]
  },
  {
   "cell_type": "code",
   "execution_count": 4,
   "metadata": {},
   "outputs": [],
   "source": [
    "prob = transition_prob['^']['E']"
   ]
  },
  {
   "cell_type": "code",
   "execution_count": 5,
   "metadata": {},
   "outputs": [],
   "source": [
    "for i in range(len(sequence)):\n",
    "    st_0 = state_path[i]\n",
    "    st_1 = state_path[i+1]\n",
    "    n = sequence[i]\n",
    "    \n",
    "    ep = emmition_prob[st_0][seq_chars.index(n)]\n",
    "    tp = transition_prob[st_0][st_1]\n",
    "    prob = prob *ep * tp"
   ]
  },
  {
   "cell_type": "code",
   "execution_count": 6,
   "metadata": {},
   "outputs": [
    {
     "data": {
      "text/plain": [
       "-41.21967768602254"
      ]
     },
     "execution_count": 6,
     "metadata": {},
     "output_type": "execute_result"
    }
   ],
   "source": [
    "np.log(prob)"
   ]
  },
  {
   "cell_type": "code",
   "execution_count": 7,
   "metadata": {},
   "outputs": [
    {
     "data": {
      "text/plain": [
       "1.2546466609343717e-18"
      ]
     },
     "execution_count": 7,
     "metadata": {},
     "output_type": "execute_result"
    }
   ],
   "source": [
    "prob"
   ]
  },
  {
   "cell_type": "code",
   "execution_count": null,
   "metadata": {},
   "outputs": [],
   "source": []
  }
 ],
 "metadata": {
  "kernelspec": {
   "display_name": "Python 3",
   "language": "python",
   "name": "python3"
  },
  "language_info": {
   "codemirror_mode": {
    "name": "ipython",
    "version": 3
   },
   "file_extension": ".py",
   "mimetype": "text/x-python",
   "name": "python",
   "nbconvert_exporter": "python",
   "pygments_lexer": "ipython3",
   "version": "3.6.7"
  }
 },
 "nbformat": 4,
 "nbformat_minor": 2
}
