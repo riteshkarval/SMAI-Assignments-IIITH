{
 "cells": [
  {
   "cell_type": "code",
   "execution_count": 1,
   "metadata": {},
   "outputs": [],
   "source": [
    "import pandas as pd\n",
    "import numpy as np\n",
    "from sklearn.preprocessing import MinMaxScaler"
   ]
  },
  {
   "cell_type": "code",
   "execution_count": 2,
   "metadata": {},
   "outputs": [
    {
     "name": "stderr",
     "output_type": "stream",
     "text": [
      "Using TensorFlow backend.\n"
     ]
    }
   ],
   "source": [
    "from keras.models import Sequential\n",
    "from keras.layers import Dense\n",
    "from keras.layers import LSTM, GRU, RNN"
   ]
  },
  {
   "cell_type": "code",
   "execution_count": 3,
   "metadata": {},
   "outputs": [],
   "source": [
    "data = pd.read_csv('../input_data/GoogleStocks.csv')\n",
    "data = data.drop('date',1)"
   ]
  },
  {
   "cell_type": "code",
   "execution_count": 4,
   "metadata": {},
   "outputs": [],
   "source": [
    "data = data.iloc[1:]\n",
    "data['avg'] = data[['low', 'high']].mean(axis=1)"
   ]
  },
  {
   "cell_type": "code",
   "execution_count": 5,
   "metadata": {},
   "outputs": [
    {
     "data": {
      "text/html": [
       "<div>\n",
       "<style scoped>\n",
       "    .dataframe tbody tr th:only-of-type {\n",
       "        vertical-align: middle;\n",
       "    }\n",
       "\n",
       "    .dataframe tbody tr th {\n",
       "        vertical-align: top;\n",
       "    }\n",
       "\n",
       "    .dataframe thead th {\n",
       "        text-align: right;\n",
       "    }\n",
       "</style>\n",
       "<table border=\"1\" class=\"dataframe\">\n",
       "  <thead>\n",
       "    <tr style=\"text-align: right;\">\n",
       "      <th></th>\n",
       "      <th>close</th>\n",
       "      <th>volume</th>\n",
       "      <th>open</th>\n",
       "      <th>high</th>\n",
       "      <th>low</th>\n",
       "      <th>avg</th>\n",
       "    </tr>\n",
       "  </thead>\n",
       "  <tbody>\n",
       "    <tr>\n",
       "      <th>1</th>\n",
       "      <td>1184.62</td>\n",
       "      <td>1894639</td>\n",
       "      <td>1198.53</td>\n",
       "      <td>1202.8300</td>\n",
       "      <td>1176.720</td>\n",
       "      <td>1189.77500</td>\n",
       "    </tr>\n",
       "    <tr>\n",
       "      <th>2</th>\n",
       "      <td>1193.00</td>\n",
       "      <td>1493841</td>\n",
       "      <td>1196.93</td>\n",
       "      <td>1206.3975</td>\n",
       "      <td>1187.040</td>\n",
       "      <td>1196.71875</td>\n",
       "    </tr>\n",
       "    <tr>\n",
       "      <th>3</th>\n",
       "      <td>1205.50</td>\n",
       "      <td>1668910</td>\n",
       "      <td>1226.32</td>\n",
       "      <td>1230.0000</td>\n",
       "      <td>1202.825</td>\n",
       "      <td>1216.41250</td>\n",
       "    </tr>\n",
       "    <tr>\n",
       "      <th>4</th>\n",
       "      <td>1231.54</td>\n",
       "      <td>1195899</td>\n",
       "      <td>1216.00</td>\n",
       "      <td>1231.7900</td>\n",
       "      <td>1213.150</td>\n",
       "      <td>1222.47000</td>\n",
       "    </tr>\n",
       "    <tr>\n",
       "      <th>5</th>\n",
       "      <td>1223.97</td>\n",
       "      <td>2089367</td>\n",
       "      <td>1197.35</td>\n",
       "      <td>1227.1400</td>\n",
       "      <td>1196.170</td>\n",
       "      <td>1211.65500</td>\n",
       "    </tr>\n",
       "  </tbody>\n",
       "</table>\n",
       "</div>"
      ],
      "text/plain": [
       "     close   volume     open       high       low         avg\n",
       "1  1184.62  1894639  1198.53  1202.8300  1176.720  1189.77500\n",
       "2  1193.00  1493841  1196.93  1206.3975  1187.040  1196.71875\n",
       "3  1205.50  1668910  1226.32  1230.0000  1202.825  1216.41250\n",
       "4  1231.54  1195899  1216.00  1231.7900  1213.150  1222.47000\n",
       "5  1223.97  2089367  1197.35  1227.1400  1196.170  1211.65500"
      ]
     },
     "execution_count": 5,
     "metadata": {},
     "output_type": "execute_result"
    }
   ],
   "source": [
    "data.head()"
   ]
  },
  {
   "cell_type": "code",
   "execution_count": 6,
   "metadata": {},
   "outputs": [
    {
     "name": "stderr",
     "output_type": "stream",
     "text": [
      "/usr/local/lib/python3.6/dist-packages/sklearn/preprocessing/data.py:334: DataConversionWarning: Data with input dtype int64, float64 were all converted to float64 by MinMaxScaler.\n",
      "  return self.partial_fit(X, y)\n"
     ]
    }
   ],
   "source": [
    "sc = MinMaxScaler(feature_range = (0, 1))\n",
    "scaled_data = sc.fit_transform(data)"
   ]
  },
  {
   "cell_type": "code",
   "execution_count": 7,
   "metadata": {},
   "outputs": [
    {
     "data": {
      "text/plain": [
       "array([0.86049961, 0.25082533, 0.87921667, 0.88187969, 0.87656555,\n",
       "       0.88231921])"
      ]
     },
     "execution_count": 7,
     "metadata": {},
     "output_type": "execute_result"
    }
   ],
   "source": [
    "scaled_data[0]"
   ]
  },
  {
   "cell_type": "code",
   "execution_count": 8,
   "metadata": {},
   "outputs": [],
   "source": [
    "def RNN2(cells,timesteps):\n",
    "    X_train = []\n",
    "    y_train = []\n",
    "    print('RNN cells:',cells,' Time_Steps:',timesteps, 'layers:2')\n",
    "    for i in range(timesteps, 755):\n",
    "        X_train.append([scaled_data[i-timesteps:i, 5],scaled_data[i-timesteps:i, 1]])\n",
    "        y_train.append(scaled_data[i, 0])\n",
    "    X_train, y_train = np.asarray(X_train), np.array(y_train)\n",
    "    X_train = np.reshape(X_train, (X_train.shape[0], X_train.shape[2], 2))\n",
    "    model = Sequential()\n",
    "    model.add(GRU(units = cells, return_sequences = True, input_shape = (X_train.shape[1], 2)))\n",
    "    model.add(GRU(units = cells))\n",
    "    model.add(Dense(units = 1))\n",
    "    model.compile(optimizer = 'adam', loss = 'mean_squared_error', metrics=['accuracy'])\n",
    "    model.fit(X_train, y_train, epochs = 10, batch_size = 32, verbose=0)\n",
    "    score = model.evaluate(X_train, y_train, batch_size=32, verbose=0)\n",
    "    return score"
   ]
  },
  {
   "cell_type": "code",
   "execution_count": 9,
   "metadata": {},
   "outputs": [],
   "source": [
    "def RNN3(cells,timesteps):\n",
    "    X_train = []\n",
    "    y_train = []\n",
    "    print('RNN cells:',cells,' Time_Steps:',timesteps, 'layers:3')\n",
    "    for i in range(timesteps, 755):\n",
    "        X_train.append([scaled_data[i-timesteps:i, 5],scaled_data[i-timesteps:i, 1]])\n",
    "        y_train.append(scaled_data[i, 0])\n",
    "    X_train, y_train = np.array(X_train), np.array(y_train)\n",
    "    X_train = np.reshape(X_train, (X_train.shape[0], X_train.shape[2], 2))\n",
    "    model = Sequential()\n",
    "    model.add(GRU(units = cells, return_sequences = True, input_shape = (X_train.shape[1], 2)))\n",
    "    model.add(GRU(units = cells, return_sequences = True))\n",
    "    model.add(GRU(units = cells))\n",
    "    model.add(Dense(units = 1))\n",
    "    model.compile(optimizer = 'adam', loss = 'mean_squared_error', metrics=['accuracy'])\n",
    "    model.fit(X_train, y_train, epochs = 10, batch_size = 32, verbose=0)\n",
    "    score = model.evaluate(X_train, y_train, batch_size=32, verbose=0)\n",
    "    return score"
   ]
  },
  {
   "cell_type": "code",
   "execution_count": 10,
   "metadata": {},
   "outputs": [],
   "source": [
    "cells2 = [30,50,80]\n",
    "timesteps2 = [20,50,75]\n",
    "cells3 = [30,50,80]\n",
    "timesteps3 = [20,50,75]"
   ]
  },
  {
   "cell_type": "code",
   "execution_count": 11,
   "metadata": {},
   "outputs": [
    {
     "name": "stdout",
     "output_type": "stream",
     "text": [
      "Combination: 1\n",
      "RNN cells: 30  Time_Steps: 20 layers:2\n",
      "WARNING:tensorflow:From /home/ritesh/.local/lib/python3.6/site-packages/tensorflow/python/framework/op_def_library.py:263: colocate_with (from tensorflow.python.framework.ops) is deprecated and will be removed in a future version.\n",
      "Instructions for updating:\n",
      "Colocations handled automatically by placer.\n",
      "WARNING:tensorflow:From /home/ritesh/.local/lib/python3.6/site-packages/tensorflow/python/ops/math_ops.py:3066: to_int32 (from tensorflow.python.ops.math_ops) is deprecated and will be removed in a future version.\n",
      "Instructions for updating:\n",
      "Use tf.cast instead.\n",
      "loss: 0.0030855734889604605  accuracy: 0.0027210884353741495 \n",
      "\n",
      "Combination: 2\n",
      "RNN cells: 30  Time_Steps: 50 layers:2\n",
      "loss: 0.07038790613201493  accuracy: 0.0014184397163120568 \n",
      "\n",
      "Combination: 3\n",
      "RNN cells: 30  Time_Steps: 75 layers:2\n",
      "loss: 0.0689479874967433  accuracy: 0.0014705882352941176 \n",
      "\n",
      "Combination: 4\n",
      "RNN cells: 50  Time_Steps: 20 layers:2\n",
      "loss: 0.008134390057070928  accuracy: 0.0027210884353741495 \n",
      "\n",
      "Combination: 5\n",
      "RNN cells: 50  Time_Steps: 50 layers:2\n",
      "loss: 0.010727757421744895  accuracy: 0.0028368794326241137 \n",
      "\n",
      "Combination: 6\n",
      "RNN cells: 50  Time_Steps: 75 layers:2\n",
      "loss: 0.06921016475569237  accuracy: 0.0014705882352941176 \n",
      "\n",
      "Combination: 7\n",
      "RNN cells: 80  Time_Steps: 20 layers:2\n",
      "loss: 0.0028005417026135894  accuracy: 0.0027210884353741495 \n",
      "\n",
      "Combination: 8\n",
      "RNN cells: 80  Time_Steps: 50 layers:2\n",
      "loss: 0.042157601543986206  accuracy: 0.0028368794326241137 \n",
      "\n",
      "Combination: 9\n",
      "RNN cells: 80  Time_Steps: 75 layers:2\n",
      "loss: 0.06851408494745984  accuracy: 0.0014705882352941176 \n",
      "\n",
      "Combination: 10\n",
      "RNN cells: 30  Time_Steps: 20 layers:2\n",
      "loss: 0.0033284913064265736  accuracy: 0.0027210884353741495 \n",
      "\n",
      "Combination: 11\n",
      "RNN cells: 30  Time_Steps: 50 layers:2\n",
      "loss: 0.06772108795847875  accuracy: 0.0014184397163120568 \n",
      "\n",
      "Combination: 12\n",
      "RNN cells: 30  Time_Steps: 75 layers:2\n",
      "loss: 0.06893967125181327  accuracy: 0.0014705882352941176 \n",
      "\n",
      "Combination: 13\n",
      "RNN cells: 50  Time_Steps: 20 layers:2\n",
      "loss: 0.0030119206927412628  accuracy: 0.0027210884353741495 \n",
      "\n",
      "Combination: 14\n",
      "RNN cells: 50  Time_Steps: 50 layers:2\n",
      "loss: 0.06941395941989642  accuracy: 0.0014184397163120568 \n",
      "\n",
      "Combination: 15\n",
      "RNN cells: 50  Time_Steps: 75 layers:2\n",
      "loss: 0.0603647831334349  accuracy: 0.0014705882352941176 \n",
      "\n",
      "Combination: 16\n",
      "RNN cells: 80  Time_Steps: 20 layers:2\n",
      "loss: 0.0038760474350835595  accuracy: 0.0027210884353741495 \n",
      "\n",
      "Combination: 17\n",
      "RNN cells: 80  Time_Steps: 50 layers:2\n",
      "loss: 0.008637544319879079  accuracy: 0.0028368794326241137 \n",
      "\n",
      "Combination: 18\n",
      "RNN cells: 80  Time_Steps: 75 layers:2\n",
      "loss: 0.06926720660070286  accuracy: 0.0014705882352941176 \n",
      "\n"
     ]
    }
   ],
   "source": [
    "loss = []\n",
    "accuracy = []\n",
    "combination = 1\n",
    "for cell in cells2:\n",
    "    for timestep in timesteps2:\n",
    "        print('Combination:',combination)\n",
    "        score = RNN2(cell,timestep)\n",
    "        print('loss:',score[0],' accuracy:',score[1],'\\n')\n",
    "        loss.append(score[0])\n",
    "        accuracy.append(score[1])\n",
    "        combination += 1\n",
    "for cell in cells3:\n",
    "    for timestep in timesteps3:\n",
    "        print('Combination:',combination)\n",
    "        score = RNN2(cell,timestep)\n",
    "        print('loss:',score[0],' accuracy:',score[1],'\\n')\n",
    "        loss.append(score[0])\n",
    "        accuracy.append(score[1])\n",
    "        combination += 1"
   ]
  },
  {
   "cell_type": "code",
   "execution_count": 12,
   "metadata": {},
   "outputs": [
    {
     "data": {
      "text/plain": [
       "[0.0030855734889604605,\n",
       " 0.07038790613201493,\n",
       " 0.0689479874967433,\n",
       " 0.008134390057070928,\n",
       " 0.010727757421744895,\n",
       " 0.06921016475569237,\n",
       " 0.0028005417026135894,\n",
       " 0.042157601543986206,\n",
       " 0.06851408494745984,\n",
       " 0.0033284913064265736,\n",
       " 0.06772108795847875,\n",
       " 0.06893967125181327,\n",
       " 0.0030119206927412628,\n",
       " 0.06941395941989642,\n",
       " 0.0603647831334349,\n",
       " 0.0038760474350835595,\n",
       " 0.008637544319879079,\n",
       " 0.06926720660070286]"
      ]
     },
     "execution_count": 12,
     "metadata": {},
     "output_type": "execute_result"
    }
   ],
   "source": [
    "loss"
   ]
  },
  {
   "cell_type": "code",
   "execution_count": 13,
   "metadata": {},
   "outputs": [
    {
     "data": {
      "text/plain": [
       "[0.0027210884353741495,\n",
       " 0.0014184397163120568,\n",
       " 0.0014705882352941176,\n",
       " 0.0027210884353741495,\n",
       " 0.0028368794326241137,\n",
       " 0.0014705882352941176,\n",
       " 0.0027210884353741495,\n",
       " 0.0028368794326241137,\n",
       " 0.0014705882352941176,\n",
       " 0.0027210884353741495,\n",
       " 0.0014184397163120568,\n",
       " 0.0014705882352941176,\n",
       " 0.0027210884353741495,\n",
       " 0.0014184397163120568,\n",
       " 0.0014705882352941176,\n",
       " 0.0027210884353741495,\n",
       " 0.0028368794326241137,\n",
       " 0.0014705882352941176]"
      ]
     },
     "execution_count": 13,
     "metadata": {},
     "output_type": "execute_result"
    }
   ],
   "source": [
    "accuracy"
   ]
  },
  {
   "cell_type": "code",
   "execution_count": null,
   "metadata": {},
   "outputs": [],
   "source": []
  }
 ],
 "metadata": {
  "kernelspec": {
   "display_name": "Python 3",
   "language": "python",
   "name": "python3"
  },
  "language_info": {
   "codemirror_mode": {
    "name": "ipython",
    "version": 3
   },
   "file_extension": ".py",
   "mimetype": "text/x-python",
   "name": "python",
   "nbconvert_exporter": "python",
   "pygments_lexer": "ipython3",
   "version": "3.6.7"
  }
 },
 "nbformat": 4,
 "nbformat_minor": 2
}
