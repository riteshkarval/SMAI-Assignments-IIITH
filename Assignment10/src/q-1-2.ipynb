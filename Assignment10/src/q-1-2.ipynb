{
 "cells": [
  {
   "cell_type": "code",
   "execution_count": 6,
   "metadata": {},
   "outputs": [],
   "source": [
    "import pandas as pd\n",
    "import numpy as np\n",
    "from sklearn.preprocessing import MinMaxScaler\n",
    "from hmmlearn import hmm\n",
    "from sklearn.metrics import mean_squared_error"
   ]
  },
  {
   "cell_type": "code",
   "execution_count": 7,
   "metadata": {},
   "outputs": [],
   "source": [
    "data = pd.read_csv('../input_data/GoogleStocks.csv')\n",
    "data = data.drop('date',1)\n",
    "data = data.iloc[1:]\n",
    "data['avg'] = data[['low', 'high']].mean(axis=1)"
   ]
  },
  {
   "cell_type": "code",
   "execution_count": 3,
   "metadata": {},
   "outputs": [],
   "source": [
    "def HMM(states, timesteps):\n",
    "    X1_train = []\n",
    "    X2_train = []\n",
    "    y_train = []\n",
    "    print('States:',states,' Timesteps:',timesteps)\n",
    "    for i in range(timesteps, 755):\n",
    "        X1_train.append(scaled_data[i-timesteps:i, 5])\n",
    "        X2_train.append(scaled_data[i-timesteps:i, 1])\n",
    "        y_train.append(scaled_data[i, 0])\n",
    "    X1_train,X2_train, y_train = np.asarray(X1_train) ,np.asarray(X2_train), np.array(y_train)\n",
    "    X = np.column_stack([X1_train, X2_train])\n",
    "    \n",
    "    \n",
    "    remodel = hmm.GaussianHMM(n_components=states, covariance_type=\"diag\", n_iter=100)\n",
    "    remodel.fit(X)\n",
    "    hidden_states = remodel.predict(X)\n",
    "    expected_returns_and_volumes = np.dot(remodel.transmat_, remodel.means_)\n",
    "    returns_and_volume_columnwise = list(zip(*expected_returns_and_volumes))\n",
    "    expected_returns = returns_and_volume_columnwise[0]\n",
    "    predicted_prices = []\n",
    "    predicted_volumes = []\n",
    "    for idx in range(755-timesteps):\n",
    "        state = hidden_states[idx]\n",
    "        current_price = scaled_data[idx][1]\n",
    "        predicted_prices.append(current_price + expected_returns[state])\n",
    "    mse = mean_squared_error(predicted_prices,y_train)\n",
    "    return mse"
   ]
  },
  {
   "cell_type": "code",
   "execution_count": 5,
   "metadata": {},
   "outputs": [
    {
     "name": "stderr",
     "output_type": "stream",
     "text": [
      "/usr/local/lib/python3.6/dist-packages/sklearn/preprocessing/data.py:334: DataConversionWarning: Data with input dtype int64, float64 were all converted to float64 by MinMaxScaler.\n",
      "  return self.partial_fit(X, y)\n"
     ]
    },
    {
     "name": "stdout",
     "output_type": "stream",
     "text": [
      "Combination: 1\n",
      "States: 4  Timesteps: 20\n",
      "Loss: 0.06978685757351262 \n",
      "\n",
      "Combination: 2\n",
      "States: 4  Timesteps: 50\n",
      "Loss: 0.08303790607633037 \n",
      "\n",
      "Combination: 3\n",
      "States: 4  Timesteps: 75\n",
      "Loss: 0.09794579452023434 \n",
      "\n",
      "Combination: 4\n",
      "States: 8  Timesteps: 20\n",
      "Loss: 0.06611711533137804 \n",
      "\n",
      "Combination: 5\n",
      "States: 8  Timesteps: 50\n",
      "Loss: 0.0845509518797185 \n",
      "\n",
      "Combination: 6\n",
      "States: 8  Timesteps: 75\n",
      "Loss: 0.10282508017519815 \n",
      "\n",
      "Combination: 7\n",
      "States: 12  Timesteps: 20\n",
      "Loss: 0.06606627658817033 \n",
      "\n",
      "Combination: 8\n",
      "States: 12  Timesteps: 50\n",
      "Loss: 0.08617329208988264 \n",
      "\n",
      "Combination: 9\n",
      "States: 12  Timesteps: 75\n",
      "Loss: 0.10218136692806153 \n",
      "\n"
     ]
    }
   ],
   "source": [
    "sc = MinMaxScaler(feature_range = (0, 1))\n",
    "scaled_data = sc.fit_transform(data)\n",
    "timesteps_list = [20,50,75]\n",
    "states_list = [4,8,12]\n",
    "combination = 1\n",
    "score_list = []\n",
    "for states in states_list:\n",
    "    for timesteps in timesteps_list:\n",
    "        print('Combination:',combination)\n",
    "        score = HMM(states,timesteps)\n",
    "        score_list.append(score)\n",
    "        print('Loss:',score,'\\n')\n",
    "        combination += 1"
   ]
  },
  {
   "cell_type": "code",
   "execution_count": null,
   "metadata": {},
   "outputs": [],
   "source": []
  }
 ],
 "metadata": {
  "kernelspec": {
   "display_name": "Python 3",
   "language": "python",
   "name": "python3"
  },
  "language_info": {
   "codemirror_mode": {
    "name": "ipython",
    "version": 3
   },
   "file_extension": ".py",
   "mimetype": "text/x-python",
   "name": "python",
   "nbconvert_exporter": "python",
   "pygments_lexer": "ipython3",
   "version": "3.6.7"
  }
 },
 "nbformat": 4,
 "nbformat_minor": 2
}
