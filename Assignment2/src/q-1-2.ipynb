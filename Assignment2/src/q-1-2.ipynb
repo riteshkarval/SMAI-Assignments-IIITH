{
 "cells": [
  {
   "cell_type": "code",
   "execution_count": 1,
   "metadata": {},
   "outputs": [],
   "source": [
    "import pandas as pd\n",
    "import numpy as np\n",
    "from scipy import spatial\n",
    "import matplotlib.pyplot as plt"
   ]
  },
  {
   "cell_type": "code",
   "execution_count": 2,
   "metadata": {},
   "outputs": [],
   "source": [
    "colnames = ['class', 'a1', 'a2', 'a3','a4','a5','a6','id']\n",
    "dataset1 = pd.read_csv(\"../input_data/RobotDataset/Robot1\", names=colnames, header=None,delim_whitespace=True)\n",
    "dataset2 = pd.read_csv(\"../input_data/RobotDataset/Robot2\", names=colnames, header=None,delim_whitespace=True)\n",
    "frames = [dataset1,dataset2]\n",
    "dataset = pd.concat(frames)\n",
    "colnames = ['sepall', 'sepalw', 'petall', 'petalw','class']\n",
    "dataset2 = pd.read_csv(\"../input_data/Iris/Iris.csv\", names=colnames, header=None)"
   ]
  },
  {
   "cell_type": "code",
   "execution_count": 3,
   "metadata": {},
   "outputs": [
    {
     "data": {
      "text/html": [
       "<div>\n",
       "<style scoped>\n",
       "    .dataframe tbody tr th:only-of-type {\n",
       "        vertical-align: middle;\n",
       "    }\n",
       "\n",
       "    .dataframe tbody tr th {\n",
       "        vertical-align: top;\n",
       "    }\n",
       "\n",
       "    .dataframe thead th {\n",
       "        text-align: right;\n",
       "    }\n",
       "</style>\n",
       "<table border=\"1\" class=\"dataframe\">\n",
       "  <thead>\n",
       "    <tr style=\"text-align: right;\">\n",
       "      <th></th>\n",
       "      <th>class</th>\n",
       "      <th>a1</th>\n",
       "      <th>a2</th>\n",
       "      <th>a3</th>\n",
       "      <th>a4</th>\n",
       "      <th>a5</th>\n",
       "      <th>a6</th>\n",
       "      <th>id</th>\n",
       "    </tr>\n",
       "  </thead>\n",
       "  <tbody>\n",
       "    <tr>\n",
       "      <th>0</th>\n",
       "      <td>1</td>\n",
       "      <td>1</td>\n",
       "      <td>1</td>\n",
       "      <td>1</td>\n",
       "      <td>1</td>\n",
       "      <td>3</td>\n",
       "      <td>1</td>\n",
       "      <td>data_5</td>\n",
       "    </tr>\n",
       "    <tr>\n",
       "      <th>1</th>\n",
       "      <td>1</td>\n",
       "      <td>1</td>\n",
       "      <td>1</td>\n",
       "      <td>1</td>\n",
       "      <td>1</td>\n",
       "      <td>3</td>\n",
       "      <td>2</td>\n",
       "      <td>data_6</td>\n",
       "    </tr>\n",
       "    <tr>\n",
       "      <th>2</th>\n",
       "      <td>1</td>\n",
       "      <td>1</td>\n",
       "      <td>1</td>\n",
       "      <td>1</td>\n",
       "      <td>3</td>\n",
       "      <td>2</td>\n",
       "      <td>1</td>\n",
       "      <td>data_19</td>\n",
       "    </tr>\n",
       "    <tr>\n",
       "      <th>3</th>\n",
       "      <td>1</td>\n",
       "      <td>1</td>\n",
       "      <td>1</td>\n",
       "      <td>1</td>\n",
       "      <td>3</td>\n",
       "      <td>3</td>\n",
       "      <td>2</td>\n",
       "      <td>data_22</td>\n",
       "    </tr>\n",
       "    <tr>\n",
       "      <th>4</th>\n",
       "      <td>1</td>\n",
       "      <td>1</td>\n",
       "      <td>1</td>\n",
       "      <td>2</td>\n",
       "      <td>1</td>\n",
       "      <td>2</td>\n",
       "      <td>1</td>\n",
       "      <td>data_27</td>\n",
       "    </tr>\n",
       "  </tbody>\n",
       "</table>\n",
       "</div>"
      ],
      "text/plain": [
       "   class  a1  a2  a3  a4  a5  a6       id\n",
       "0      1   1   1   1   1   3   1   data_5\n",
       "1      1   1   1   1   1   3   2   data_6\n",
       "2      1   1   1   1   3   2   1  data_19\n",
       "3      1   1   1   1   3   3   2  data_22\n",
       "4      1   1   1   2   1   2   1  data_27"
      ]
     },
     "execution_count": 3,
     "metadata": {},
     "output_type": "execute_result"
    }
   ],
   "source": [
    "dataset.head()"
   ]
  },
  {
   "cell_type": "code",
   "execution_count": 4,
   "metadata": {},
   "outputs": [
    {
     "data": {
      "text/html": [
       "<div>\n",
       "<style scoped>\n",
       "    .dataframe tbody tr th:only-of-type {\n",
       "        vertical-align: middle;\n",
       "    }\n",
       "\n",
       "    .dataframe tbody tr th {\n",
       "        vertical-align: top;\n",
       "    }\n",
       "\n",
       "    .dataframe thead th {\n",
       "        text-align: right;\n",
       "    }\n",
       "</style>\n",
       "<table border=\"1\" class=\"dataframe\">\n",
       "  <thead>\n",
       "    <tr style=\"text-align: right;\">\n",
       "      <th></th>\n",
       "      <th>sepall</th>\n",
       "      <th>sepalw</th>\n",
       "      <th>petall</th>\n",
       "      <th>petalw</th>\n",
       "      <th>class</th>\n",
       "    </tr>\n",
       "  </thead>\n",
       "  <tbody>\n",
       "    <tr>\n",
       "      <th>0</th>\n",
       "      <td>5.1</td>\n",
       "      <td>3.5</td>\n",
       "      <td>1.4</td>\n",
       "      <td>0.2</td>\n",
       "      <td>Iris-setosa</td>\n",
       "    </tr>\n",
       "    <tr>\n",
       "      <th>1</th>\n",
       "      <td>6.3</td>\n",
       "      <td>3.3</td>\n",
       "      <td>6.0</td>\n",
       "      <td>2.5</td>\n",
       "      <td>Iris-virginica</td>\n",
       "    </tr>\n",
       "    <tr>\n",
       "      <th>2</th>\n",
       "      <td>5.0</td>\n",
       "      <td>3.0</td>\n",
       "      <td>1.6</td>\n",
       "      <td>0.2</td>\n",
       "      <td>Iris-setosa</td>\n",
       "    </tr>\n",
       "    <tr>\n",
       "      <th>3</th>\n",
       "      <td>6.2</td>\n",
       "      <td>2.8</td>\n",
       "      <td>4.8</td>\n",
       "      <td>1.8</td>\n",
       "      <td>Iris-virginica</td>\n",
       "    </tr>\n",
       "    <tr>\n",
       "      <th>4</th>\n",
       "      <td>6.4</td>\n",
       "      <td>3.1</td>\n",
       "      <td>5.5</td>\n",
       "      <td>1.8</td>\n",
       "      <td>Iris-virginica</td>\n",
       "    </tr>\n",
       "  </tbody>\n",
       "</table>\n",
       "</div>"
      ],
      "text/plain": [
       "   sepall  sepalw  petall  petalw           class\n",
       "0     5.1     3.5     1.4     0.2     Iris-setosa\n",
       "1     6.3     3.3     6.0     2.5  Iris-virginica\n",
       "2     5.0     3.0     1.6     0.2     Iris-setosa\n",
       "3     6.2     2.8     4.8     1.8  Iris-virginica\n",
       "4     6.4     3.1     5.5     1.8  Iris-virginica"
      ]
     },
     "execution_count": 4,
     "metadata": {},
     "output_type": "execute_result"
    }
   ],
   "source": [
    "dataset2.head()"
   ]
  },
  {
   "cell_type": "code",
   "execution_count": 88,
   "metadata": {},
   "outputs": [],
   "source": [
    "def safe_div(x,y):\n",
    "    if y == 0:\n",
    "        return 0\n",
    "    return x / y"
   ]
  },
  {
   "cell_type": "code",
   "execution_count": 89,
   "metadata": {},
   "outputs": [],
   "source": [
    "def euclidean(v1,v2):\n",
    "    ary = spatial.distance.cdist(v1,v2, metric='euclidean')\n",
    "    return ary[0,0]"
   ]
  },
  {
   "cell_type": "code",
   "execution_count": 90,
   "metadata": {},
   "outputs": [],
   "source": [
    "def minkowski(v1,v2):\n",
    "    ary = spatial.distance.cdist(v1,v2, metric='minkowski')\n",
    "    return ary[0,0]"
   ]
  },
  {
   "cell_type": "code",
   "execution_count": 91,
   "metadata": {},
   "outputs": [],
   "source": [
    "def cosine(v1,v2):\n",
    "    ary = spatial.distance.cdist(v1,v2, metric='cosine')\n",
    "    return ary[0,0]"
   ]
  },
  {
   "cell_type": "code",
   "execution_count": 92,
   "metadata": {},
   "outputs": [],
   "source": [
    "def distances(dataset,sample,metric):\n",
    "    dist = []\n",
    "    l = len(dataset)\n",
    "    for i in range(l):\n",
    "        dist.append(metric(dataset.iloc[[i]],sample))\n",
    "    return np.asarray(dist)"
   ]
  },
  {
   "cell_type": "code",
   "execution_count": 93,
   "metadata": {},
   "outputs": [],
   "source": [
    "def knn(dataset,sample,y,classes,k,metric):\n",
    "    dist = distances(dataset,sample,metric)\n",
    "    indices = dist.argsort()[:3]\n",
    "    counts = np.zeros(len(classes))\n",
    "    for i in indices:\n",
    "        counts[classes.index(y.iloc[i])] += 1\n",
    "    return classes[np.argmax(counts)]"
   ]
  },
  {
   "cell_type": "code",
   "execution_count": 94,
   "metadata": {},
   "outputs": [],
   "source": [
    "def train_validate_test_split(dataset):\n",
    "    size = len(dataset)\n",
    "    tsize = int(size*0.6)\n",
    "    vsize = int(size*0.8)\n",
    "    training_data = dataset.iloc[:tsize].reset_index(drop=True)\n",
    "    validation_data = dataset.iloc[tsize:vsize].reset_index(drop=True)\n",
    "    testing_data = dataset.iloc[vsize:].reset_index(drop=True)\n",
    "    return training_data,validation_data,testing_data"
   ]
  },
  {
   "cell_type": "code",
   "execution_count": 112,
   "metadata": {},
   "outputs": [],
   "source": [
    "def knn_algorithm_iris(training_data,test_data,classes,k,metric):\n",
    "    ttrain = training_data[['sepall', 'sepalw', 'petall', 'petalw']]\n",
    "    ttest = test_data[['sepall', 'sepalw', 'petall', 'petalw']]\n",
    "    y = training_data['class']\n",
    "    pred = []\n",
    "    for i in range(len(ttest)):\n",
    "        pred.append(knn(ttrain,ttest.iloc[[i]],y,classes,k,metric))\n",
    "    return pred"
   ]
  },
  {
   "cell_type": "code",
   "execution_count": 120,
   "metadata": {},
   "outputs": [],
   "source": [
    "def knn_algorithm_robot(training_data,test_data,classes,k,metric):\n",
    "    ttrain = training_data[['a1', 'a2', 'a3','a4','a5','a6']]\n",
    "    ttest = test_data[['a1', 'a2', 'a3','a4','a5','a6']]\n",
    "    y = training_data['class']\n",
    "    pred = []\n",
    "    for i in range(len(ttest)):\n",
    "        pred.append(knn(ttrain,ttest.iloc[[i]],y,classes,k,metric))\n",
    "    return pred"
   ]
  },
  {
   "cell_type": "code",
   "execution_count": 121,
   "metadata": {},
   "outputs": [],
   "source": [
    "def confusionmatrix(preds,y,classes):\n",
    "    n = len(preds)\n",
    "    noc = len(classes)\n",
    "    matrix = np.zeros((noc,noc))\n",
    "    for i in range(n):\n",
    "        r = classes.index(preds[i])\n",
    "        c = classes.index(y[i])\n",
    "        matrix[r][c] += 1\n",
    "    return matrix"
   ]
  },
  {
   "cell_type": "code",
   "execution_count": 122,
   "metadata": {},
   "outputs": [],
   "source": [
    "def stats2(confusionmatrix,classes): \n",
    "    n = len(classes)\n",
    "    precision = np.zeros(n)\n",
    "    recall = np.zeros(n)\n",
    "    f1 = np.zeros(n)\n",
    "    colsums = confusionmatrix.sum(axis=0)\n",
    "    rowsums = confusionmatrix.sum(axis=1)\n",
    "    dval = 0\n",
    "    for i in range(n):\n",
    "        precision[i] = confusionmatrix[i,i]/colsums[i]\n",
    "        recall[i] = confusionmatrix[i,i]/rowsums[i]\n",
    "        f1[i] = safe_div(2,(safe_div(1,precision[i]))+safe_div(1,recall[i]))\n",
    "        dval += confusionmatrix[i,i]\n",
    "    return dval/np.sum(confusionmatrix)"
   ]
  },
  {
   "cell_type": "code",
   "execution_count": 123,
   "metadata": {},
   "outputs": [],
   "source": [
    "def stats(confusionmatrix,classes): \n",
    "    n = len(classes)\n",
    "    precision = np.zeros(n)\n",
    "    recall = np.zeros(n)\n",
    "    f1 = np.zeros(n)\n",
    "    colsums = confusionmatrix.sum(axis=0)\n",
    "    rowsums = confusionmatrix.sum(axis=1)\n",
    "    dval = 0\n",
    "    for i in range(n):\n",
    "        precision[i] = confusionmatrix[i,i]/colsums[i]\n",
    "        recall[i] = confusionmatrix[i,i]/rowsums[i]\n",
    "        f1[i] = safe_div(2,(safe_div(1,precision[i]))+safe_div(1,recall[i]))\n",
    "        dval += confusionmatrix[i,i]\n",
    "    for i in range(n):\n",
    "        print(\"Recall of class\",classes[i],\":\",recall[i])\n",
    "        print(\"Precision of class\",classes[i],\":\",precision[i])\n",
    "        print(\"F1 Score of class\",classes[i],\":\",f1[i])\n",
    "        print('\\n')\n",
    "    print(\"Accuracy:\",dval/np.sum(confusionmatrix))\n",
    "    print(\"Classification error:\",1-(dval/np.sum(confusionmatrix)))\n",
    "    print(\"Overall Precision:\",np.mean(precision))\n",
    "    print(\"Overall Recall:\",np.average(recall))\n",
    "    print(\"Overall F1 Score:\",np.mean(f1))"
   ]
  },
  {
   "cell_type": "code",
   "execution_count": 124,
   "metadata": {},
   "outputs": [],
   "source": [
    "def sklearnstats(data):\n",
    "    datanames = ['training data','validation data','testing data']\n",
    "    from sklearn.metrics import confusion_matrix\n",
    "    from sklearn.neighbors import KNeighborsClassifier\n",
    "    neigh = KNeighborsClassifier(n_neighbors=3)\n",
    "    X = data[0].drop('class',axis=1)\n",
    "    y = data[0]['class']\n",
    "    neigh.fit(X, y)\n",
    "    for i in range(len(data)):\n",
    "        print(\"Accuracy on:\",datanames[i])\n",
    "        preds = neigh.predict(data[i].drop('class',axis=1))\n",
    "        con_mat = confusion_matrix(data[i]['class'], preds)\n",
    "        stats(con_mat,data[i]['class'].unique())\n",
    "        print(\"\\n\\n\\n\")"
   ]
  },
  {
   "cell_type": "code",
   "execution_count": 125,
   "metadata": {},
   "outputs": [
    {
     "name": "stdout",
     "output_type": "stream",
     "text": [
      "Robot Dataset Graphs\n"
     ]
    }
   ],
   "source": [
    "print(\"Robot Dataset Graphs\")"
   ]
  },
  {
   "cell_type": "code",
   "execution_count": 126,
   "metadata": {},
   "outputs": [
    {
     "name": "stdout",
     "output_type": "stream",
     "text": [
      "[1, 0]\n"
     ]
    }
   ],
   "source": [
    "training_data,validation_data,testing_data = train_validate_test_split(dataset)\n",
    "classes = list(training_data['class'].unique())\n",
    "print(classes)\n",
    "preds = knn_algorithm_robot(training_data,training_data,classes,3,euclidean)"
   ]
  },
  {
   "cell_type": "code",
   "execution_count": 128,
   "metadata": {
    "scrolled": true
   },
   "outputs": [
    {
     "data": {
      "image/png": "[encoded data removed]",
      "text/plain": [
       "<Figure size 432x288 with 1 Axes>"
      ]
     },
     "metadata": {
      "needs_background": "light"
     },
     "output_type": "display_data"
    },
    {
     "data": {
      "image/png": "[encoded data removed]",
      "text/plain": [
       "<Figure size 432x288 with 1 Axes>"
      ]
     },
     "metadata": {
      "needs_background": "light"
     },
     "output_type": "display_data"
    },
    {
     "data": {
      "image/png": "[encoded data removed]",
      "text/plain": [
       "<Figure size 432x288 with 1 Axes>"
      ]
     },
     "metadata": {
      "needs_background": "light"
     },
     "output_type": "display_data"
    }
   ],
   "source": [
    "metrics = [minkowski,euclidean,cosine]\n",
    "metricsname = ['minkowski','euclidean','cosine']\n",
    "for i in range(len(metrics)):\n",
    "    px = []\n",
    "    py = []\n",
    "    for k in range(1,12,2):\n",
    "        preds = knn_algorithm_robot(training_data,training_data,classes,k,metrics[i])\n",
    "        cm = confusionmatrix(preds,list(training_data['class']),list(training_data['class'].unique()))\n",
    "        px.append(k)\n",
    "        py.append(stats2(cm,training_data['class'].unique()))\n",
    "    plt.plot(px,py, color='r')\n",
    "    plt.xlabel('Value of K with metric '+metricsname[i])\n",
    "    plt.ylabel('Accuracy')\n",
    "    plt.show()"
   ]
  },
  {
   "cell_type": "code",
   "execution_count": 30,
   "metadata": {},
   "outputs": [
    {
     "name": "stdout",
     "output_type": "stream",
     "text": [
      "Iris Dataset Graphs\n"
     ]
    }
   ],
   "source": [
    "print(\"Iris Dataset Graphs\")"
   ]
  },
  {
   "cell_type": "code",
   "execution_count": 131,
   "metadata": {},
   "outputs": [],
   "source": [
    "training_data,validation_data,testing_data = train_validate_test_split(dataset2)\n",
    "classes = list(training_data['class'].unique())\n",
    "preds = knn_algorithm_iris(training_data,training_data,classes,3,euclidean)"
   ]
  },
  {
   "cell_type": "code",
   "execution_count": 132,
   "metadata": {},
   "outputs": [
    {
     "data": {
      "image/png": "[encoded data removed]",
      "text/plain": [
       "<Figure size 432x288 with 1 Axes>"
      ]
     },
     "metadata": {
      "needs_background": "light"
     },
     "output_type": "display_data"
    },
    {
     "data": {
      "image/png": "[encoded data removed]",
      "text/plain": [
       "<Figure size 432x288 with 1 Axes>"
      ]
     },
     "metadata": {
      "needs_background": "light"
     },
     "output_type": "display_data"
    },
    {
     "data": {
      "image/png": "[encoded data removed]",
      "text/plain": [
       "<Figure size 432x288 with 1 Axes>"
      ]
     },
     "metadata": {
      "needs_background": "light"
     },
     "output_type": "display_data"
    }
   ],
   "source": [
    "metrics = [minkowski,euclidean,cosine]\n",
    "metricsname = ['minkowski','euclidean','cosine']\n",
    "for i in range(len(metrics)):\n",
    "    px = []\n",
    "    py = []\n",
    "    for k in range(1,12,2):\n",
    "        preds = knn_algorithm_iris(training_data,training_data,classes,k,metrics[i])\n",
    "        cm = confusionmatrix(preds,list(training_data['class']),list(training_data['class'].unique()))\n",
    "        px.append(k)\n",
    "        py.append(stats2(cm,training_data['class'].unique()))\n",
    "    plt.plot(px,py, color='r')\n",
    "    plt.xlabel('Value of K with metric '+metricsname[i])\n",
    "    plt.ylabel('Accuracy')\n",
    "    plt.show()"
   ]
  },
  {
   "cell_type": "code",
   "execution_count": 133,
   "metadata": {},
   "outputs": [],
   "source": [
    "# Observations:\n",
    "# From the plot we can see that the value of k is not making any effect on the model performance\n",
    "# because of less data. if more data is available the algorithm may perform better. And it may also mean \n",
    "# that the datapoints in the dataset are so close such that the K in KNN is not making any difference"
   ]
  },
  {
   "cell_type": "code",
   "execution_count": null,
   "metadata": {},
   "outputs": [],
   "source": []
  }
 ],
 "metadata": {
  "kernelspec": {
   "display_name": "Python 3",
   "language": "python",
   "name": "python3"
  },
  "language_info": {
   "codemirror_mode": {
    "name": "ipython",
    "version": 3
   },
   "file_extension": ".py",
   "mimetype": "text/x-python",
   "name": "python",
   "nbconvert_exporter": "python",
   "pygments_lexer": "ipython3",
   "version": "3.7.1"
  }
 },
 "nbformat": 4,
 "nbformat_minor": 2
}
