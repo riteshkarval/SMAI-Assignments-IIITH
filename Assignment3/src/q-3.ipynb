{
 "cells": [
  {
   "cell_type": "code",
   "execution_count": 1,
   "metadata": {},
   "outputs": [],
   "source": [
    "import pandas as pd\n",
    "import numpy as np\n",
    "from scipy import spatial\n",
    "import seaborn as sns"
   ]
  },
  {
   "cell_type": "code",
   "execution_count": 2,
   "metadata": {},
   "outputs": [],
   "source": [
    "def safe_div(x,y):\n",
    "    if y == 0:\n",
    "        return 0\n",
    "    return x / y"
   ]
  },
  {
   "cell_type": "code",
   "execution_count": 3,
   "metadata": {},
   "outputs": [],
   "source": [
    "dataset = pd.read_csv(\"../input_data/wine-quality/data.csv\",sep=';')"
   ]
  },
  {
   "cell_type": "code",
   "execution_count": 4,
   "metadata": {},
   "outputs": [],
   "source": [
    "# Adding bias vector to the dataset with values 1"
   ]
  },
  {
   "cell_type": "code",
   "execution_count": 5,
   "metadata": {},
   "outputs": [],
   "source": [
    "dataset.insert(loc=0, column='intercept', value=np.ones(len(dataset)))"
   ]
  },
  {
   "cell_type": "code",
   "execution_count": 6,
   "metadata": {},
   "outputs": [],
   "source": [
    "def continious_to_categorical(data):\n",
    "    median = data.median()\n",
    "    low = data.min()\n",
    "    high = data.max()\n",
    "    lmedian = (low+median)/2\n",
    "    rmedian = (high+median)/2\n",
    "    temp = []\n",
    "    for v in data:\n",
    "        if v < (lmedian+median)/2:\n",
    "            temp.append('low')\n",
    "        elif v > (rmedian+median)/2:\n",
    "            temp.append('high')\n",
    "        else:\n",
    "            temp.append('medium')\n",
    "    return pd.Series(temp)"
   ]
  },
  {
   "cell_type": "code",
   "execution_count": 7,
   "metadata": {},
   "outputs": [],
   "source": [
    "dataset['alcohol'] = continious_to_categorical(dataset['alcohol'])"
   ]
  },
  {
   "cell_type": "code",
   "execution_count": 8,
   "metadata": {},
   "outputs": [
    {
     "data": {
      "text/plain": [
       "array(['medium', 'low', 'high'], dtype=object)"
      ]
     },
     "execution_count": 8,
     "metadata": {},
     "output_type": "execute_result"
    }
   ],
   "source": [
    "dataset['alcohol'].unique()"
   ]
  },
  {
   "cell_type": "code",
   "execution_count": 9,
   "metadata": {},
   "outputs": [],
   "source": [
    "def train_validate_test_split(dataset):\n",
    "    size = len(dataset)\n",
    "    tsize = int(size*0.6)\n",
    "    vsize = int(size*0.8)\n",
    "    training_data = dataset.iloc[:tsize].reset_index(drop=True)\n",
    "    validation_data = dataset.iloc[tsize:vsize].reset_index(drop=True)\n",
    "    testing_data = dataset.iloc[vsize:].reset_index(drop=True)\n",
    "    return training_data,validation_data,testing_data"
   ]
  },
  {
   "cell_type": "code",
   "execution_count": 10,
   "metadata": {},
   "outputs": [],
   "source": [
    "def predict(X,weights):\n",
    "    values = np.dot(X,weights)\n",
    "    for i in range(len(values)):\n",
    "        if (1/(1+np.exp(-1 * values[i]))) > 0.5:\n",
    "            values[i] = 1\n",
    "        else:\n",
    "            values[i] = 0\n",
    "    return values"
   ]
  },
  {
   "cell_type": "code",
   "execution_count": 11,
   "metadata": {},
   "outputs": [],
   "source": [
    "def predictonevsall(classifiers,X):\n",
    "    classes = list(classifiers.keys())\n",
    "    preds = []\n",
    "    for i in range(len(X)):\n",
    "        pred = np.zeros(len(classes))\n",
    "        j = 0\n",
    "        for cls in classes:\n",
    "            pred[j] = (1/(1+np.exp(-1 * np.dot(X.iloc[[i]],classifiers[cls])))) \n",
    "            j += 1\n",
    "        preds.append(classes[np.argmax(pred)])\n",
    "    return preds"
   ]
  },
  {
   "cell_type": "code",
   "execution_count": 12,
   "metadata": {},
   "outputs": [],
   "source": [
    "def logisticRegressionGD(X,y,lr=0.001,iter=60):\n",
    "    weights = np.random.rand(len(X.columns))\n",
    "    for i in range(iter):\n",
    "        preds = predict(X,weights)\n",
    "        weights[0] = weights[0] - lr *(preds - y).mean()\n",
    "        for j in range(1,len(X.columns)):\n",
    "            temp = X.iloc[:, [j]].values\n",
    "            x = np.reshape(temp,temp.shape[0])\n",
    "            weights[j] = weights[j] - (lr *((preds - y)* x).mean())\n",
    "#         print(cost)\n",
    "    return weights"
   ]
  },
  {
   "cell_type": "code",
   "execution_count": 13,
   "metadata": {},
   "outputs": [],
   "source": [
    "def accuracy(preds,Y):\n",
    "    count = 0\n",
    "    for i in range(len(Y)):\n",
    "        if preds[i] == Y[i]:\n",
    "            count += 1\n",
    "    return count/len(Y)"
   ]
  },
  {
   "cell_type": "code",
   "execution_count": 18,
   "metadata": {},
   "outputs": [],
   "source": [
    "def stats(confusionmatrix,classes): \n",
    "    n = len(classes)\n",
    "    precision = np.zeros(n)\n",
    "    recall = np.zeros(n)\n",
    "    f1 = np.zeros(n)\n",
    "    colsums = confusionmatrix.sum(axis=0)\n",
    "    rowsums = confusionmatrix.sum(axis=1)\n",
    "    dval = 0\n",
    "    for i in range(n):\n",
    "        precision[i] = confusionmatrix[i,i]/colsums[i]\n",
    "        recall[i] = confusionmatrix[i,i]/rowsums[i]\n",
    "        f1[i] = safe_div(2,(safe_div(1,precision[i]))+safe_div(1,recall[i]))\n",
    "        dval += confusionmatrix[i,i]\n",
    "    return dval/np.sum(confusionmatrix)"
   ]
  },
  {
   "cell_type": "code",
   "execution_count": 15,
   "metadata": {},
   "outputs": [
    {
     "name": "stdout",
     "output_type": "stream",
     "text": [
      "['medium' 'low' 'high']\n"
     ]
    }
   ],
   "source": [
    "training_data,validation_data,testing_data = train_validate_test_split(dataset)\n",
    "classes = dataset['alcohol'].unique()\n",
    "print(classes)\n",
    "classifiers = {}\n",
    "for cls in classes:\n",
    "    temp = training_data.copy()\n",
    "    for i in range(len(temp['alcohol'])):\n",
    "        if temp['alcohol'][i] == cls:\n",
    "            temp['alcohol'] = 1\n",
    "        else:\n",
    "            temp['alcohol'] = 0\n",
    "    X = temp.drop('alcohol',axis = 1)\n",
    "    y = temp['alcohol']\n",
    "    classifiers[cls] = logisticRegressionGD(X,y)  "
   ]
  },
  {
   "cell_type": "code",
   "execution_count": 16,
   "metadata": {},
   "outputs": [],
   "source": [
    "preds = predictonevsall(classifiers,training_data.drop('alcohol',axis = 1))"
   ]
  },
  {
   "cell_type": "code",
   "execution_count": 17,
   "metadata": {},
   "outputs": [
    {
     "data": {
      "text/plain": [
       "0.245839636913767"
      ]
     },
     "execution_count": 17,
     "metadata": {},
     "output_type": "execute_result"
    }
   ],
   "source": [
    "accuracy(preds,training_data['alcohol'])"
   ]
  }
 ],
 "metadata": {
  "kernelspec": {
   "display_name": "Python 3",
   "language": "python",
   "name": "python3"
  },
  "language_info": {
   "codemirror_mode": {
    "name": "ipython",
    "version": 3
   },
   "file_extension": ".py",
   "mimetype": "text/x-python",
   "name": "python",
   "nbconvert_exporter": "python",
   "pygments_lexer": "ipython3",
   "version": "3.6.7"
  }
 },
 "nbformat": 4,
 "nbformat_minor": 2
}
