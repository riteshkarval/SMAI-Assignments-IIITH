{
 "cells": [
  {
   "cell_type": "code",
   "execution_count": 1,
   "metadata": {},
   "outputs": [],
   "source": [
    "import numpy as np\n",
    "import pandas as pd\n",
    "from copy import deepcopy"
   ]
  },
  {
   "cell_type": "code",
   "execution_count": 2,
   "metadata": {},
   "outputs": [],
   "source": [
    "df = pd.read_csv(\"reducedData.csv\")"
   ]
  },
  {
   "cell_type": "code",
   "execution_count": 3,
   "metadata": {},
   "outputs": [],
   "source": [
    "X = df.drop('class',axis=1)\n",
    "y = df['class']"
   ]
  },
  {
   "cell_type": "code",
   "execution_count": 4,
   "metadata": {
    "scrolled": true
   },
   "outputs": [],
   "source": [
    "from numpy import mean\n",
    "from numpy import cov\n",
    "from numpy.linalg import eig"
   ]
  },
  {
   "cell_type": "code",
   "execution_count": 5,
   "metadata": {},
   "outputs": [],
   "source": [
    "def euclidean(v1,v2):\n",
    "    ary = spatial.distance.cdist(v1,v2, metric='minkowski')\n",
    "    return ary[0,0]"
   ]
  },
  {
   "cell_type": "code",
   "execution_count": 6,
   "metadata": {},
   "outputs": [],
   "source": [
    "def distances(a,b):\n",
    "    return np.linalg.norm(a - b, axis=1)"
   ]
  },
  {
   "cell_type": "code",
   "execution_count": 7,
   "metadata": {},
   "outputs": [],
   "source": [
    "def safe_div(x,y):\n",
    "    if y == 0:\n",
    "        return 0\n",
    "    return x / y"
   ]
  },
  {
   "cell_type": "code",
   "execution_count": 8,
   "metadata": {},
   "outputs": [],
   "source": [
    "def purity(clusters,y,labels):\n",
    "    purity = 0\n",
    "    for k in range(5):\n",
    "        labelcounts = np.zeros(len(labels))\n",
    "        print(purity)\n",
    "        for i in range(len(clusters)):\n",
    "            if clusters[i] == k:\n",
    "                labelcounts[labels.index(y[i])] = labelcounts[labels.index(y[i])] +1\n",
    "        print(labelcounts)\n",
    "        purity += np.max(labelcounts)\n",
    "    return purity/len(y)"
   ]
  },
  {
   "cell_type": "code",
   "execution_count": 9,
   "metadata": {},
   "outputs": [],
   "source": [
    "k = 5\n",
    "centroids = np.asarray(X[:5])\n",
    "centroids_old = np.zeros(centroids.shape)"
   ]
  },
  {
   "cell_type": "code",
   "execution_count": 10,
   "metadata": {},
   "outputs": [],
   "source": [
    "error = distances(centroids, centroids_old)\n",
    "error.mean()\n",
    "X = np.asarray(X)"
   ]
  },
  {
   "cell_type": "code",
   "execution_count": 11,
   "metadata": {},
   "outputs": [],
   "source": [
    "clusters = np.zeros(len(X))\n",
    "for ite in range(10):\n",
    "    for i in range(len(X)):\n",
    "        distance = distances(X[i], centroids)\n",
    "        cluster = np.argmin(distance)\n",
    "        clusters[i] = cluster\n",
    "    centroids_old = deepcopy(centroids)\n",
    "    for i in range(k):\n",
    "        points = [X[j] for j in range(len(X)) if clusters[j] == i]\n",
    "        centroids[i] = np.mean(points, axis=0)\n",
    "    error = distances(centroids,centroids_old)"
   ]
  },
  {
   "cell_type": "code",
   "execution_count": 12,
   "metadata": {},
   "outputs": [
    {
     "data": {
      "text/plain": [
       "array([0., 1., 2., ..., 4., 2., 4.])"
      ]
     },
     "execution_count": 12,
     "metadata": {},
     "output_type": "execute_result"
    }
   ],
   "source": [
    "clusters"
   ]
  },
  {
   "cell_type": "code",
   "execution_count": 13,
   "metadata": {},
   "outputs": [
    {
     "data": {
      "text/plain": [
       "array(['normal', 'dos', 'r2l', 'probe', 'u2r'], dtype=object)"
      ]
     },
     "execution_count": 13,
     "metadata": {},
     "output_type": "execute_result"
    }
   ],
   "source": [
    "y.unique()"
   ]
  },
  {
   "cell_type": "code",
   "execution_count": 14,
   "metadata": {},
   "outputs": [
    {
     "name": "stdout",
     "output_type": "stream",
     "text": [
      "0\n",
      "[2838. 6899.   49. 1221.    0.]\n",
      "6899.0\n",
      "[2.203e+03 1.280e+02 1.000e+00 4.934e+03 1.000e+00]\n",
      "11833.0\n",
      "[1.350e+02 3.431e+04 2.000e+00 3.190e+02 0.000e+00]\n",
      "46143.0\n",
      "[23710.   425.   589.  4589.    43.]\n",
      "69853.0\n",
      "[3.8457e+04 4.1650e+03 3.5400e+02 5.9300e+02 8.0000e+00]\n"
     ]
    },
    {
     "data": {
      "text/plain": [
       "0.8597874147634811"
      ]
     },
     "execution_count": 14,
     "metadata": {},
     "output_type": "execute_result"
    }
   ],
   "source": [
    "purity(clusters,y,list(y.unique()))"
   ]
  },
  {
   "cell_type": "code",
   "execution_count": null,
   "metadata": {},
   "outputs": [],
   "source": []
  }
 ],
 "metadata": {
  "kernelspec": {
   "display_name": "Python 3",
   "language": "python",
   "name": "python3"
  },
  "language_info": {
   "codemirror_mode": {
    "name": "ipython",
    "version": 3
   },
   "file_extension": ".py",
   "mimetype": "text/x-python",
   "name": "python",
   "nbconvert_exporter": "python",
   "pygments_lexer": "ipython3",
   "version": "3.6.7"
  }
 },
 "nbformat": 4,
 "nbformat_minor": 2
}
