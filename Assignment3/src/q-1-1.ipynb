{
 "cells": [
  {
   "cell_type": "code",
   "execution_count": 1,
   "metadata": {},
   "outputs": [],
   "source": [
    "import numpy as np\n",
    "import pandas as pd"
   ]
  },
  {
   "cell_type": "code",
   "execution_count": 2,
   "metadata": {},
   "outputs": [],
   "source": [
    "df = pd.read_csv(\"../input_data/data.csv\")"
   ]
  },
  {
   "cell_type": "code",
   "execution_count": 3,
   "metadata": {},
   "outputs": [],
   "source": [
    "X = df.drop('xAttack',axis=1)\n",
    "y = df['xAttack']"
   ]
  },
  {
   "cell_type": "code",
   "execution_count": 4,
   "metadata": {
    "scrolled": true
   },
   "outputs": [],
   "source": [
    "from numpy import mean\n",
    "from numpy import cov\n",
    "from numpy.linalg import eig"
   ]
  },
  {
   "cell_type": "code",
   "execution_count": 5,
   "metadata": {},
   "outputs": [],
   "source": [
    "X_st = (X-np.mean(X,axis=0))/(np.std(X,axis=0))"
   ]
  },
  {
   "cell_type": "code",
   "execution_count": 6,
   "metadata": {},
   "outputs": [],
   "source": [
    "CovarMatrix = np.cov(X_st.T)"
   ]
  },
  {
   "cell_type": "code",
   "execution_count": 7,
   "metadata": {},
   "outputs": [],
   "source": [
    "eigen_values, eigen_vectors = np.linalg.eig(CovarMatrix)"
   ]
  },
  {
   "cell_type": "code",
   "execution_count": 8,
   "metadata": {},
   "outputs": [],
   "source": [
    "eigen_pair = [(np.abs(eigen_values[i]),eigen_vectors[:,i]) for i in range(len(eigen_vectors))]"
   ]
  },
  {
   "cell_type": "code",
   "execution_count": 9,
   "metadata": {},
   "outputs": [
    {
     "data": {
      "text/plain": [
       "Index(['eigen value', 'eigen vector'], dtype='object')"
      ]
     },
     "execution_count": 9,
     "metadata": {},
     "output_type": "execute_result"
    }
   ],
   "source": [
    "eigen_pair = pd.DataFrame(eigen_pair, columns = ['eigen value','eigen vector'])\n",
    "eigen_pair.keys()"
   ]
  },
  {
   "cell_type": "code",
   "execution_count": 10,
   "metadata": {},
   "outputs": [],
   "source": [
    "eigen_pair = eigen_pair.sort_values(by=['eigen value'], ascending=False)"
   ]
  },
  {
   "cell_type": "code",
   "execution_count": 11,
   "metadata": {},
   "outputs": [],
   "source": [
    "threshold=0.7\n",
    "a = 0\n",
    "theta = 0\n",
    "b = np.sum(eigen_pair.iloc[:,0],axis = 0)"
   ]
  },
  {
   "cell_type": "code",
   "execution_count": 12,
   "metadata": {},
   "outputs": [],
   "source": [
    "for i in range(len(eigen_pair)):\n",
    "    a += eigen_pair.iloc[i,0]\n",
    "    ratio = a/b\n",
    "    var = eigen_pair.iloc[i,0]\n",
    "    if ratio >= 0.9:\n",
    "        k = i\n",
    "        break "
   ]
  },
  {
   "cell_type": "code",
   "execution_count": 13,
   "metadata": {},
   "outputs": [],
   "source": [
    "Vm = eigen_pair.iloc[0:i,1] \n",
    "temp = []\n",
    "for i in Vm:\n",
    "    temp.append(i)\n",
    "Vm = np.array(temp)"
   ]
  },
  {
   "cell_type": "code",
   "execution_count": 14,
   "metadata": {},
   "outputs": [
    {
     "data": {
      "text/plain": [
       "(125973, 14)"
      ]
     },
     "execution_count": 14,
     "metadata": {},
     "output_type": "execute_result"
    }
   ],
   "source": [
    "ReducedData = X_st.dot(Vm.T)\n",
    "ReducedData.insert(loc=13, column='class', value=y)\n",
    "ReducedData.shape"
   ]
  },
  {
   "cell_type": "code",
   "execution_count": 15,
   "metadata": {},
   "outputs": [
    {
     "data": {
      "text/plain": [
       "pandas.core.frame.DataFrame"
      ]
     },
     "execution_count": 15,
     "metadata": {},
     "output_type": "execute_result"
    }
   ],
   "source": [
    "type(ReducedData)"
   ]
  },
  {
   "cell_type": "code",
   "execution_count": 16,
   "metadata": {},
   "outputs": [],
   "source": [
    "pd.DataFrame(ReducedData).to_csv(\"reducedData.csv\",index=False)"
   ]
  },
  {
   "cell_type": "code",
   "execution_count": 17,
   "metadata": {},
   "outputs": [
    {
     "data": {
      "text/html": [
       "<div>\n",
       "<style scoped>\n",
       "    .dataframe tbody tr th:only-of-type {\n",
       "        vertical-align: middle;\n",
       "    }\n",
       "\n",
       "    .dataframe tbody tr th {\n",
       "        vertical-align: top;\n",
       "    }\n",
       "\n",
       "    .dataframe thead th {\n",
       "        text-align: right;\n",
       "    }\n",
       "</style>\n",
       "<table border=\"1\" class=\"dataframe\">\n",
       "  <thead>\n",
       "    <tr style=\"text-align: right;\">\n",
       "      <th></th>\n",
       "      <th>0</th>\n",
       "      <th>1</th>\n",
       "      <th>2</th>\n",
       "      <th>3</th>\n",
       "      <th>4</th>\n",
       "      <th>5</th>\n",
       "      <th>6</th>\n",
       "      <th>7</th>\n",
       "      <th>8</th>\n",
       "      <th>9</th>\n",
       "      <th>10</th>\n",
       "      <th>11</th>\n",
       "      <th>12</th>\n",
       "      <th>class</th>\n",
       "    </tr>\n",
       "  </thead>\n",
       "  <tbody>\n",
       "    <tr>\n",
       "      <th>0</th>\n",
       "      <td>1.008902</td>\n",
       "      <td>-0.272003</td>\n",
       "      <td>0.029599</td>\n",
       "      <td>0.150049</td>\n",
       "      <td>0.259692</td>\n",
       "      <td>0.578094</td>\n",
       "      <td>-0.058921</td>\n",
       "      <td>-0.174519</td>\n",
       "      <td>0.269307</td>\n",
       "      <td>0.034294</td>\n",
       "      <td>-0.066373</td>\n",
       "      <td>0.280443</td>\n",
       "      <td>-0.057627</td>\n",
       "      <td>normal</td>\n",
       "    </tr>\n",
       "    <tr>\n",
       "      <th>1</th>\n",
       "      <td>-0.495837</td>\n",
       "      <td>1.120908</td>\n",
       "      <td>0.211958</td>\n",
       "      <td>1.340940</td>\n",
       "      <td>-1.399765</td>\n",
       "      <td>2.614655</td>\n",
       "      <td>-1.432534</td>\n",
       "      <td>0.272444</td>\n",
       "      <td>-0.051265</td>\n",
       "      <td>0.011499</td>\n",
       "      <td>-0.163504</td>\n",
       "      <td>0.214391</td>\n",
       "      <td>-0.061687</td>\n",
       "      <td>normal</td>\n",
       "    </tr>\n",
       "    <tr>\n",
       "      <th>2</th>\n",
       "      <td>-3.802336</td>\n",
       "      <td>-1.248098</td>\n",
       "      <td>0.058765</td>\n",
       "      <td>0.434412</td>\n",
       "      <td>0.394424</td>\n",
       "      <td>-0.108576</td>\n",
       "      <td>0.140225</td>\n",
       "      <td>0.172886</td>\n",
       "      <td>-0.078086</td>\n",
       "      <td>0.006332</td>\n",
       "      <td>0.009409</td>\n",
       "      <td>0.119714</td>\n",
       "      <td>-0.000965</td>\n",
       "      <td>dos</td>\n",
       "    </tr>\n",
       "    <tr>\n",
       "      <th>3</th>\n",
       "      <td>2.103190</td>\n",
       "      <td>-1.050187</td>\n",
       "      <td>-0.037603</td>\n",
       "      <td>-0.002242</td>\n",
       "      <td>0.858471</td>\n",
       "      <td>-0.242829</td>\n",
       "      <td>0.029154</td>\n",
       "      <td>0.230059</td>\n",
       "      <td>-0.034821</td>\n",
       "      <td>-0.003268</td>\n",
       "      <td>0.001687</td>\n",
       "      <td>0.053330</td>\n",
       "      <td>-0.178822</td>\n",
       "      <td>normal</td>\n",
       "    </tr>\n",
       "    <tr>\n",
       "      <th>4</th>\n",
       "      <td>1.891748</td>\n",
       "      <td>-0.881356</td>\n",
       "      <td>-0.156240</td>\n",
       "      <td>-1.170189</td>\n",
       "      <td>0.583164</td>\n",
       "      <td>0.268428</td>\n",
       "      <td>-0.042166</td>\n",
       "      <td>0.312500</td>\n",
       "      <td>-0.093507</td>\n",
       "      <td>-0.006820</td>\n",
       "      <td>0.055598</td>\n",
       "      <td>0.069313</td>\n",
       "      <td>-0.052597</td>\n",
       "      <td>normal</td>\n",
       "    </tr>\n",
       "  </tbody>\n",
       "</table>\n",
       "</div>"
      ],
      "text/plain": [
       "          0         1         2         3         4         5         6  \\\n",
       "0  1.008902 -0.272003  0.029599  0.150049  0.259692  0.578094 -0.058921   \n",
       "1 -0.495837  1.120908  0.211958  1.340940 -1.399765  2.614655 -1.432534   \n",
       "2 -3.802336 -1.248098  0.058765  0.434412  0.394424 -0.108576  0.140225   \n",
       "3  2.103190 -1.050187 -0.037603 -0.002242  0.858471 -0.242829  0.029154   \n",
       "4  1.891748 -0.881356 -0.156240 -1.170189  0.583164  0.268428 -0.042166   \n",
       "\n",
       "          7         8         9        10        11        12   class  \n",
       "0 -0.174519  0.269307  0.034294 -0.066373  0.280443 -0.057627  normal  \n",
       "1  0.272444 -0.051265  0.011499 -0.163504  0.214391 -0.061687  normal  \n",
       "2  0.172886 -0.078086  0.006332  0.009409  0.119714 -0.000965     dos  \n",
       "3  0.230059 -0.034821 -0.003268  0.001687  0.053330 -0.178822  normal  \n",
       "4  0.312500 -0.093507 -0.006820  0.055598  0.069313 -0.052597  normal  "
      ]
     },
     "execution_count": 17,
     "metadata": {},
     "output_type": "execute_result"
    }
   ],
   "source": [
    "ReducedData.head()"
   ]
  },
  {
   "cell_type": "code",
   "execution_count": null,
   "metadata": {},
   "outputs": [],
   "source": []
  }
 ],
 "metadata": {
  "kernelspec": {
   "display_name": "Python 3",
   "language": "python",
   "name": "python3"
  },
  "language_info": {
   "codemirror_mode": {
    "name": "ipython",
    "version": 3
   },
   "file_extension": ".py",
   "mimetype": "text/x-python",
   "name": "python",
   "nbconvert_exporter": "python",
   "pygments_lexer": "ipython3",
   "version": "3.6.7"
  }
 },
 "nbformat": 4,
 "nbformat_minor": 2
}
