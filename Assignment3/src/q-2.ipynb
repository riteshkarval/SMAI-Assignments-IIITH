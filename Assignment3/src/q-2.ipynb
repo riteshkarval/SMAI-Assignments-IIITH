{
 "cells": [
  {
   "cell_type": "code",
   "execution_count": 1,
   "metadata": {},
   "outputs": [],
   "source": [
    "import pandas as pd\n",
    "import numpy as np\n",
    "from scipy import spatial\n",
    "import seaborn as sns"
   ]
  },
  {
   "cell_type": "code",
   "execution_count": 2,
   "metadata": {},
   "outputs": [],
   "source": [
    "def safe_div(x,y):\n",
    "    if y == 0:\n",
    "        return 0\n",
    "    return x / y"
   ]
  },
  {
   "cell_type": "code",
   "execution_count": 3,
   "metadata": {},
   "outputs": [],
   "source": [
    "def euclidean(v1,v2):\n",
    "    ary = spatial.distance.cdist(v1,v2, metric='minkowski')\n",
    "    return ary[0,0]"
   ]
  },
  {
   "cell_type": "code",
   "execution_count": 4,
   "metadata": {},
   "outputs": [],
   "source": [
    "def distances(dataset,sample):\n",
    "    dist = []\n",
    "    l = len(dataset)\n",
    "    for i in range(l):\n",
    "        dist.append(euclidean(dataset.iloc[[i]],sample))\n",
    "    return np.asarray(dist)"
   ]
  },
  {
   "cell_type": "code",
   "execution_count": 5,
   "metadata": {},
   "outputs": [],
   "source": [
    "dataset = pd.read_csv(\"../input_data/AdmissionDataset/data.csv\")"
   ]
  },
  {
   "cell_type": "code",
   "execution_count": 6,
   "metadata": {},
   "outputs": [],
   "source": [
    "# Adding bias vector to the dataset with values 1"
   ]
  },
  {
   "cell_type": "code",
   "execution_count": 7,
   "metadata": {},
   "outputs": [],
   "source": [
    "dataset.insert(loc=0, column='intercept', value=np.ones(len(dataset)))"
   ]
  },
  {
   "cell_type": "code",
   "execution_count": 8,
   "metadata": {},
   "outputs": [],
   "source": [
    "def continious_to_categorical(data):\n",
    "    median = data.median()\n",
    "    temp = []\n",
    "    for v in data:\n",
    "        if v < median:\n",
    "            temp.append(0)\n",
    "        else:\n",
    "            temp.append(1)\n",
    "    return pd.Series(temp)"
   ]
  },
  {
   "cell_type": "code",
   "execution_count": 9,
   "metadata": {},
   "outputs": [],
   "source": [
    "dataset['Chance of Admit '] = continious_to_categorical(dataset['Chance of Admit '])"
   ]
  },
  {
   "cell_type": "code",
   "execution_count": 10,
   "metadata": {},
   "outputs": [
    {
     "data": {
      "text/html": [
       "<div>\n",
       "<style scoped>\n",
       "    .dataframe tbody tr th:only-of-type {\n",
       "        vertical-align: middle;\n",
       "    }\n",
       "\n",
       "    .dataframe tbody tr th {\n",
       "        vertical-align: top;\n",
       "    }\n",
       "\n",
       "    .dataframe thead th {\n",
       "        text-align: right;\n",
       "    }\n",
       "</style>\n",
       "<table border=\"1\" class=\"dataframe\">\n",
       "  <thead>\n",
       "    <tr style=\"text-align: right;\">\n",
       "      <th></th>\n",
       "      <th>intercept</th>\n",
       "      <th>Serial No.</th>\n",
       "      <th>GRE Score</th>\n",
       "      <th>TOEFL Score</th>\n",
       "      <th>University Rating</th>\n",
       "      <th>SOP</th>\n",
       "      <th>LOR</th>\n",
       "      <th>CGPA</th>\n",
       "      <th>Research</th>\n",
       "      <th>Chance of Admit</th>\n",
       "    </tr>\n",
       "  </thead>\n",
       "  <tbody>\n",
       "    <tr>\n",
       "      <th>0</th>\n",
       "      <td>1.0</td>\n",
       "      <td>242</td>\n",
       "      <td>317</td>\n",
       "      <td>103</td>\n",
       "      <td>2</td>\n",
       "      <td>2.5</td>\n",
       "      <td>2.0</td>\n",
       "      <td>8.15</td>\n",
       "      <td>0</td>\n",
       "      <td>0</td>\n",
       "    </tr>\n",
       "    <tr>\n",
       "      <th>1</th>\n",
       "      <td>1.0</td>\n",
       "      <td>334</td>\n",
       "      <td>319</td>\n",
       "      <td>108</td>\n",
       "      <td>3</td>\n",
       "      <td>3.0</td>\n",
       "      <td>3.5</td>\n",
       "      <td>8.54</td>\n",
       "      <td>1</td>\n",
       "      <td>0</td>\n",
       "    </tr>\n",
       "    <tr>\n",
       "      <th>2</th>\n",
       "      <td>1.0</td>\n",
       "      <td>4</td>\n",
       "      <td>322</td>\n",
       "      <td>110</td>\n",
       "      <td>3</td>\n",
       "      <td>3.5</td>\n",
       "      <td>2.5</td>\n",
       "      <td>8.67</td>\n",
       "      <td>1</td>\n",
       "      <td>1</td>\n",
       "    </tr>\n",
       "    <tr>\n",
       "      <th>3</th>\n",
       "      <td>1.0</td>\n",
       "      <td>45</td>\n",
       "      <td>326</td>\n",
       "      <td>113</td>\n",
       "      <td>5</td>\n",
       "      <td>4.5</td>\n",
       "      <td>4.0</td>\n",
       "      <td>9.40</td>\n",
       "      <td>1</td>\n",
       "      <td>1</td>\n",
       "    </tr>\n",
       "    <tr>\n",
       "      <th>4</th>\n",
       "      <td>1.0</td>\n",
       "      <td>232</td>\n",
       "      <td>319</td>\n",
       "      <td>106</td>\n",
       "      <td>3</td>\n",
       "      <td>3.5</td>\n",
       "      <td>2.5</td>\n",
       "      <td>8.33</td>\n",
       "      <td>1</td>\n",
       "      <td>1</td>\n",
       "    </tr>\n",
       "  </tbody>\n",
       "</table>\n",
       "</div>"
      ],
      "text/plain": [
       "   intercept  Serial No.  GRE Score  TOEFL Score  University Rating  SOP  \\\n",
       "0        1.0         242        317          103                  2  2.5   \n",
       "1        1.0         334        319          108                  3  3.0   \n",
       "2        1.0           4        322          110                  3  3.5   \n",
       "3        1.0          45        326          113                  5  4.5   \n",
       "4        1.0         232        319          106                  3  3.5   \n",
       "\n",
       "   LOR   CGPA  Research  Chance of Admit   \n",
       "0   2.0  8.15         0                 0  \n",
       "1   3.5  8.54         1                 0  \n",
       "2   2.5  8.67         1                 1  \n",
       "3   4.0  9.40         1                 1  \n",
       "4   2.5  8.33         1                 1  "
      ]
     },
     "execution_count": 10,
     "metadata": {},
     "output_type": "execute_result"
    }
   ],
   "source": [
    "dataset.head()"
   ]
  },
  {
   "cell_type": "code",
   "execution_count": 11,
   "metadata": {},
   "outputs": [],
   "source": [
    "def train_validate_test_split(dataset):\n",
    "    size = len(dataset)\n",
    "    tsize = int(size*0.6)\n",
    "    vsize = int(size*0.8)\n",
    "    training_data = dataset.iloc[:tsize].reset_index(drop=True)\n",
    "    validation_data = dataset.iloc[tsize:vsize].reset_index(drop=True)\n",
    "    testing_data = dataset.iloc[vsize:].reset_index(drop=True)\n",
    "    return training_data,validation_data,testing_data"
   ]
  },
  {
   "cell_type": "code",
   "execution_count": 12,
   "metadata": {},
   "outputs": [],
   "source": [
    "def predict(X,weights):\n",
    "    values = np.dot(X,weights)\n",
    "    for i in range(len(values)):\n",
    "        if (1/(1+np.exp(-1 * values[i]))) > 0.5:\n",
    "            values[i] = 1\n",
    "        else:\n",
    "            values[i] = 0\n",
    "    return values"
   ]
  },
  {
   "cell_type": "code",
   "execution_count": 13,
   "metadata": {},
   "outputs": [],
   "source": [
    "def meansquareerror(X,weights,y):\n",
    "    preds = predict(X,weights)\n",
    "    return ((preds - y)**2).mean()"
   ]
  },
  {
   "cell_type": "code",
   "execution_count": 14,
   "metadata": {},
   "outputs": [],
   "source": [
    "def logisticRegressionGD(X,y,lr=0.001,iter=60):\n",
    "    weights = np.random.rand(len(X.columns))\n",
    "    for i in range(iter):\n",
    "        preds = predict(X,weights)\n",
    "        weights[0] = weights[0] - lr *(preds - y).mean()\n",
    "        for j in range(1,len(X.columns)):\n",
    "            temp = X.iloc[:, [j]].values\n",
    "            x = np.reshape(temp,temp.shape[0])\n",
    "            weights[j] = weights[j] - (lr *((preds - y)* x).mean())\n",
    "#         print(cost)\n",
    "    return weights"
   ]
  },
  {
   "cell_type": "code",
   "execution_count": 15,
   "metadata": {},
   "outputs": [],
   "source": [
    "def confusionmatrix(preds,y,classes):\n",
    "    n = len(preds)\n",
    "    noc = len(classes)\n",
    "    matrix = np.zeros((noc,noc))\n",
    "    for i in range(n):\n",
    "        r = classes.index(preds[i])\n",
    "        c = classes.index(y[i])\n",
    "        matrix[r][c] += 1\n",
    "    return matrix"
   ]
  },
  {
   "cell_type": "code",
   "execution_count": 16,
   "metadata": {},
   "outputs": [],
   "source": [
    "def stats(confusionmatrix,classes): \n",
    "    n = len(classes)\n",
    "    precision = np.zeros(n)\n",
    "    recall = np.zeros(n)\n",
    "    f1 = np.zeros(n)\n",
    "    colsums = confusionmatrix.sum(axis=0)\n",
    "    rowsums = confusionmatrix.sum(axis=1)\n",
    "    dval = 0\n",
    "    for i in range(n):\n",
    "        precision[i] = confusionmatrix[i,i]/colsums[i]\n",
    "        recall[i] = confusionmatrix[i,i]/rowsums[i]\n",
    "        f1[i] = safe_div(2,(safe_div(1,precision[i]))+safe_div(1,recall[i]))\n",
    "        dval += confusionmatrix[i,i]\n",
    "    return dval/np.sum(confusionmatrix)"
   ]
  },
  {
   "cell_type": "code",
   "execution_count": 17,
   "metadata": {},
   "outputs": [
    {
     "name": "stdout",
     "output_type": "stream",
     "text": [
      "Training Data Accuracy:\n",
      "0.5370370370370371\n",
      "\n",
      "Validation Data Accuracy\n",
      "0.5222222222222223\n",
      "\n",
      "Testing Data Accuracy\n",
      "0.5222222222222223\n"
     ]
    },
    {
     "name": "stderr",
     "output_type": "stream",
     "text": [
      "/usr/local/lib/python3.6/dist-packages/ipykernel_launcher.py:11: RuntimeWarning: invalid value encountered in double_scalars\n",
      "  # This is added back by InteractiveShellApp.init_path()\n"
     ]
    }
   ],
   "source": [
    "training_data,validation_data,testing_data = train_validate_test_split(dataset)\n",
    "X = training_data.drop('Chance of Admit ',axis=1)\n",
    "y = training_data['Chance of Admit ']\n",
    "# for costf in costfunctions:\n",
    "weights= logisticRegressionGD(X,y)\n",
    "print(\"Training Data Accuracy:\")\n",
    "preds = predict(training_data.drop('Chance of Admit ',axis = 1),weights)\n",
    "cm = confusionmatrix(preds,training_data['Chance of Admit '],[0,1])\n",
    "print(stats(cm,[0,1]))\n",
    "print(\"\\nValidation Data Accuracy\")\n",
    "preds = predict(validation_data.drop('Chance of Admit ',axis = 1),weights)\n",
    "cm = confusionmatrix(preds,validation_data['Chance of Admit '],[0,1])\n",
    "print(stats(cm,[0,1]))\n",
    "print(\"\\nTesting Data Accuracy\")\n",
    "preds = predict(testing_data.drop('Chance of Admit ',axis = 1),weights)\n",
    "cm = confusionmatrix(preds,testing_data['Chance of Admit '],[0,1])\n",
    "print(stats(cm,[0,1]))\n"
   ]
  },
  {
   "cell_type": "code",
   "execution_count": 18,
   "metadata": {},
   "outputs": [],
   "source": [
    "def knn_algorithm(training_data,test_data,classes,k):\n",
    "    ttrain = training_data[['intercept', 'Serial No.', 'GRE Score', 'TOEFL Score',\n",
    "       'University Rating', 'SOP', 'LOR ', 'CGPA', 'Research']]\n",
    "    ttest = test_data[['intercept', 'Serial No.', 'GRE Score', 'TOEFL Score',\n",
    "       'University Rating', 'SOP', 'LOR ', 'CGPA', 'Research']]\n",
    "    y = training_data['Chance of Admit ']\n",
    "    pred = []\n",
    "    for i in range(len(ttest)):\n",
    "        pred.append(knn(ttrain,ttest.iloc[[i]],y,classes,k))\n",
    "    return pred"
   ]
  },
  {
   "cell_type": "code",
   "execution_count": 19,
   "metadata": {},
   "outputs": [],
   "source": [
    "def knn(dataset,sample,y,classes,k):\n",
    "    dist = distances(dataset,sample)\n",
    "    indices = dist.argsort()[:3]\n",
    "    counts = np.zeros(len(classes))\n",
    "    for i in indices:\n",
    "        counts[classes.index(y.iloc[i])] += 1\n",
    "    return classes[np.argmax(counts)]"
   ]
  },
  {
   "cell_type": "code",
   "execution_count": 20,
   "metadata": {},
   "outputs": [
    {
     "name": "stdout",
     "output_type": "stream",
     "text": [
      "Training Data Stats\n"
     ]
    },
    {
     "data": {
      "text/plain": [
       "0.9407407407407408"
      ]
     },
     "execution_count": 20,
     "metadata": {},
     "output_type": "execute_result"
    }
   ],
   "source": [
    "preds = knn_algorithm(training_data,training_data,[0,1],3)\n",
    "cm = confusionmatrix(preds,list(training_data['Chance of Admit ']),list(training_data['Chance of Admit '].unique()))\n",
    "print(\"Training Data Stats\")\n",
    "stats(cm,training_data['Chance of Admit '].unique())"
   ]
  },
  {
   "cell_type": "code",
   "execution_count": 21,
   "metadata": {},
   "outputs": [
    {
     "name": "stdout",
     "output_type": "stream",
     "text": [
      "Testing Data Stats\n"
     ]
    },
    {
     "data": {
      "text/plain": [
       "0.7777777777777778"
      ]
     },
     "execution_count": 21,
     "metadata": {},
     "output_type": "execute_result"
    }
   ],
   "source": [
    "preds = knn_algorithm(training_data,testing_data,[0,1],3)\n",
    "cm = confusionmatrix(preds,list(testing_data['Chance of Admit ']),list(training_data['Chance of Admit '].unique()))\n",
    "print(\"Testing Data Stats\")\n",
    "stats(cm,training_data['Chance of Admit '].unique())"
   ]
  },
  {
   "cell_type": "code",
   "execution_count": 22,
   "metadata": {},
   "outputs": [
    {
     "name": "stdout",
     "output_type": "stream",
     "text": [
      "Validation Data Stats\n"
     ]
    },
    {
     "data": {
      "text/plain": [
       "0.8444444444444444"
      ]
     },
     "execution_count": 22,
     "metadata": {},
     "output_type": "execute_result"
    }
   ],
   "source": [
    "preds = knn_algorithm(training_data,validation_data,[0,1],3)\n",
    "cm = confusionmatrix(preds,list(validation_data['Chance of Admit ']),list(training_data['Chance of Admit '].unique()))\n",
    "print(\"Validation Data Stats\")\n",
    "stats(cm,training_data['Chance of Admit '].unique())"
   ]
  },
  {
   "cell_type": "code",
   "execution_count": null,
   "metadata": {},
   "outputs": [],
   "source": []
  }
 ],
 "metadata": {
  "kernelspec": {
   "display_name": "Python 3",
   "language": "python",
   "name": "python3"
  },
  "language_info": {
   "codemirror_mode": {
    "name": "ipython",
    "version": 3
   },
   "file_extension": ".py",
   "mimetype": "text/x-python",
   "name": "python",
   "nbconvert_exporter": "python",
   "pygments_lexer": "ipython3",
   "version": "3.6.7"
  }
 },
 "nbformat": 4,
 "nbformat_minor": 2
}
