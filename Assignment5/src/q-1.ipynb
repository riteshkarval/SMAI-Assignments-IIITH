{
 "cells": [
  {
   "cell_type": "code",
   "execution_count": 1,
   "metadata": {},
   "outputs": [],
   "source": [
    "import pandas as pd\n",
    "import numpy as np\n",
    "np.random.seed(1)"
   ]
  },
  {
   "cell_type": "code",
   "execution_count": 2,
   "metadata": {},
   "outputs": [],
   "source": [
    "df = pd.read_csv(\"../Apparel/apparel-trainval.csv\")"
   ]
  },
  {
   "cell_type": "code",
   "execution_count": 3,
   "metadata": {},
   "outputs": [],
   "source": [
    "X = np.asarray(df.drop('label', axis = 1))/255\n",
    "Y = np.asarray(df['label'])\n",
    "Y = np.reshape(Y,(Y.shape[0],1))"
   ]
  },
  {
   "cell_type": "code",
   "execution_count": 4,
   "metadata": {},
   "outputs": [],
   "source": [
    "temp = np.zeros((Y.shape[0],10))\n",
    "for i in range(Y.shape[0]):\n",
    "    temp[i,Y[i]] = 1\n"
   ]
  },
  {
   "cell_type": "code",
   "execution_count": 5,
   "metadata": {},
   "outputs": [],
   "source": [
    "Y = temp"
   ]
  },
  {
   "cell_type": "code",
   "execution_count": 6,
   "metadata": {},
   "outputs": [],
   "source": [
    "def traintestvalidatesplit(data):\n",
    "    x,y = data[0], data[1]\n",
    "    n = x.shape[0]\n",
    "    k = int(n*0.8)\n",
    "    x_train = x[:k]\n",
    "    y_train = y[:k]\n",
    "    x_val = x[k:]\n",
    "    y_val = y[k:]\n",
    "    return [x_train,y_train],[x_val,y_val]"
   ]
  },
  {
   "cell_type": "code",
   "execution_count": 7,
   "metadata": {},
   "outputs": [],
   "source": [
    "def sigmoid(x):\n",
    "    return 1/(1 + np.exp(-x))"
   ]
  },
  {
   "cell_type": "code",
   "execution_count": 8,
   "metadata": {},
   "outputs": [],
   "source": [
    "def sigmoid_derivative(x):\n",
    "    return x * (1 - x)"
   ]
  },
  {
   "cell_type": "code",
   "execution_count": 9,
   "metadata": {},
   "outputs": [],
   "source": [
    "def relu(x):\n",
    "    return np.where(x > 0, 1.0, 0.0)"
   ]
  },
  {
   "cell_type": "code",
   "execution_count": 10,
   "metadata": {},
   "outputs": [],
   "source": [
    "def relu_derivative(x):\n",
    "    return np.where(x > 0, 1.0, 0.0)"
   ]
  },
  {
   "cell_type": "code",
   "execution_count": 11,
   "metadata": {},
   "outputs": [],
   "source": [
    "def tanh(x):\n",
    "    return (2/(1+np.exp(-2*x))) - 1"
   ]
  },
  {
   "cell_type": "code",
   "execution_count": 12,
   "metadata": {},
   "outputs": [],
   "source": [
    "def tanh_derivative(x):\n",
    "    return 1 - (x * x) "
   ]
  },
  {
   "cell_type": "code",
   "execution_count": 13,
   "metadata": {},
   "outputs": [],
   "source": [
    "class NN:\n",
    "    def __init__(self,layerSizes,activation,learningrate = 0.01):\n",
    "        self.shape = layerSizes\n",
    "        self.activation = activation\n",
    "        self.learningrate = learningrate\n",
    "        self.activations = {'sigmoid':[sigmoid,sigmoid_derivative],\n",
    "                           'relu':[relu,relu_derivative],\n",
    "                           'tanh':[tanh,tanh_derivative]}\n",
    "        n = len(layerSizes)\n",
    "        self.layers = []\n",
    "        self.layers.append(np.ones(self.shape[0]+1))\n",
    "        for i in range(1,n):\n",
    "            self.layers.append(np.ones(self.shape[i]))\n",
    "        self.weights = []\n",
    "        for i in range(n-1):\n",
    "            temp = np.zeros((self.layers[i].size,self.layers[i+1].size), dtype = 'd')\n",
    "            self.weights.append(np.random.randn(*temp.shape))\n",
    "        self.derivative = [0,]*len(self.weights)\n",
    "\n",
    "    def forwardpass(self,data):\n",
    "        self.layers[0][0:-1] = data\n",
    "        for i in range(1,len(self.shape)):\n",
    "            self.layers[i][...] = self.activations[self.activation][0](np.dot(self.layers[i-1],self.weights[i-1]))\n",
    "        return self.layers[-1]\n",
    "\n",
    "\n",
    "    def backpropogation(self, target, momentum=0.1):\n",
    "        error = target - self.layers[-1]\n",
    "        weight_deltas = []\n",
    "        weight_delta = error*self.activations[self.activation][1](self.layers[-1])\n",
    "        weight_deltas.append(weight_delta)\n",
    "\n",
    "        for i in range(len(self.shape)-2,0,-1):\n",
    "            weight_delta = np.dot(weight_deltas[0],self.weights[i].T)*self.activations[self.activation][1](self.layers[i])\n",
    "            weight_deltas.insert(0,weight_delta)\n",
    "            \n",
    "        for i in range(len(self.weights)):\n",
    "            layer = np.atleast_2d(self.layers[i])\n",
    "            weight_delta = np.atleast_2d(weight_deltas[i])\n",
    "            der = np.dot(layer.T,weight_delta)\n",
    "            self.weights[i] += self.learningrate*der + momentum*self.derivative[i]\n",
    "            self.derivative[i] = der\n",
    "\n",
    "        return (error**2).mean()"
   ]
  },
  {
   "cell_type": "code",
   "execution_count": 14,
   "metadata": {},
   "outputs": [],
   "source": [
    "def trainMLP(network,samples, epochs=10, momentum=0.1):\n",
    "    error_set = []\n",
    "    for i in range(epochs):\n",
    "        print('Epoch: ', i+1)\n",
    "        n = samples[0].shape[0]\n",
    "        error = 0\n",
    "        for j in range(n):\n",
    "            out = network.forwardpass(samples[0][j] )\n",
    "            error += network.backpropogation( samples[1][j], momentum )\n",
    "        error_set.append(error/n)\n",
    "        print('Training error',error/n)\n",
    "    return error_set, error/n"
   ]
  },
  {
   "cell_type": "code",
   "execution_count": 15,
   "metadata": {},
   "outputs": [],
   "source": [
    "def validateMLP(network,samples):\n",
    "    n = samples[0].shape[0]\n",
    "    error = 0\n",
    "    for j in range(n):\n",
    "        out = network.forwardpass(samples[0][j] )\n",
    "        error += network.backpropogation(samples[1][j])\n",
    "    print('Validation error',error/n)"
   ]
  },
  {
   "cell_type": "code",
   "execution_count": 16,
   "metadata": {},
   "outputs": [],
   "source": [
    "trainingdata, validationdata = traintestvalidatesplit([X,Y])\n",
    "sample = [X[:10],Y[:10]]"
   ]
  },
  {
   "cell_type": "markdown",
   "metadata": {},
   "source": [
    "# Network initialization parameters\n",
    "- List of no of neuron in each layer where no of items in list is equal to no of layers\n",
    "- Activation function(ReLu, TanH, Sigmoid)\n",
    "- Learning rate\n",
    "\n",
    "# Training Parameters\n",
    "- network object\n",
    "- training data\n",
    "- no. of epochs"
   ]
  },
  {
   "cell_type": "code",
   "execution_count": 17,
   "metadata": {
    "scrolled": true
   },
   "outputs": [
    {
     "name": "stdout",
     "output_type": "stream",
     "text": [
      "Epoch:  1\n",
      "Training error 0.047289828027981706\n",
      "Epoch:  2\n",
      "Training error 0.03941973535006561\n",
      "Epoch:  3\n",
      "Training error 0.0374220854550249\n",
      "Epoch:  4\n",
      "Training error 0.036225311675672583\n",
      "Epoch:  5\n",
      "Training error 0.035203049026629435\n",
      "Epoch:  6\n",
      "Training error 0.034411117116822966\n",
      "Epoch:  7\n",
      "Training error 0.03376016283883554\n",
      "Epoch:  8\n",
      "Training error 0.03323184724744874\n",
      "Epoch:  9\n",
      "Training error 0.03254036537022871\n",
      "Epoch:  10\n",
      "Training error 0.026283948264188374\n",
      "Epoch:  11\n",
      "Training error 0.025231237388219904\n",
      "Epoch:  12\n",
      "Training error 0.024766301143555894\n",
      "Epoch:  13\n",
      "Training error 0.02439602081492466\n",
      "Epoch:  14\n",
      "Training error 0.024019625311848595\n",
      "Epoch:  15\n",
      "Training error 0.023654562643464702\n",
      "Epoch:  16\n",
      "Training error 0.02343988765385395\n",
      "Epoch:  17\n",
      "Training error 0.02297647697612246\n"
     ]
    }
   ],
   "source": [
    "nn = NN([X.shape[1],256,64,10],'sigmoid',0.01)\n",
    "epochs = 17\n",
    "error_set, finalerror = trainMLP(nn,trainingdata,epochs)"
   ]
  },
  {
   "cell_type": "markdown",
   "metadata": {},
   "source": [
    "# Validating model"
   ]
  },
  {
   "cell_type": "code",
   "execution_count": 23,
   "metadata": {
    "scrolled": true
   },
   "outputs": [
    {
     "name": "stdout",
     "output_type": "stream",
     "text": [
      "Validation error 0.028999457666210798\n"
     ]
    }
   ],
   "source": [
    "validateMLP(nn,validationdata)"
   ]
  },
  {
   "cell_type": "markdown",
   "metadata": {},
   "source": [
    "# Effect of activation function on validation data"
   ]
  },
  {
   "cell_type": "code",
   "execution_count": 24,
   "metadata": {},
   "outputs": [],
   "source": [
    "# As a effect of activation functions it has been found that ReLu saturates after few epochs(usually after 2 or 3)\n",
    "# , whereas TanH found to jumping nerby local minima, which relsulted in jumping inbetween a range of error. \n",
    "\n",
    "# However, in case of MLP sigmoid has done a decent job, which resulted in decrease in error after every epoch\n",
    "# and also error was also low compared to TanH and ReLu,\n",
    "# but error reduction in sigmoid was slow. "
   ]
  },
  {
   "cell_type": "code",
   "execution_count": 25,
   "metadata": {},
   "outputs": [],
   "source": [
    "network = {'layers':[X.shape[1],256,64,10], 'weights':nn.weights,'layerbias':nn.layers, 'activation':'sigmoid'}"
   ]
  },
  {
   "cell_type": "markdown",
   "metadata": {},
   "source": [
    "# No. of layers vs MSE loss"
   ]
  },
  {
   "cell_type": "code",
   "execution_count": 26,
   "metadata": {},
   "outputs": [
    {
     "data": {
      "image/png": "[encoded data removed]",
      "text/plain": [
       "<Figure size 432x288 with 1 Axes>"
      ]
     },
     "metadata": {},
     "output_type": "display_data"
    }
   ],
   "source": [
    "import matplotlib.pyplot as plt\n",
    "plt.style.use('seaborn-whitegrid')\n",
    "fig = plt.figure()\n",
    "ax = plt.axes()\n",
    "\n",
    "layers = [1,2,3]\n",
    "loss = [0.4844551378268118,0.4627703481778489,0.28396687375229823]\n",
    "\n",
    "ax.plot(layers,loss)\n",
    "plt.xticks([1,2,3])\n",
    "plt.xlabel('No. of layers')\n",
    "plt.ylabel('MSE loss')\n",
    "plt.show()\n",
    "\n",
    "\n"
   ]
  },
  {
   "cell_type": "code",
   "execution_count": 27,
   "metadata": {},
   "outputs": [],
   "source": [
    "plt.cla()\n",
    "plt.clf()\n",
    "plt.close()"
   ]
  },
  {
   "cell_type": "markdown",
   "metadata": {},
   "source": [
    "# Epochs vs MSE loss while training"
   ]
  },
  {
   "cell_type": "code",
   "execution_count": 28,
   "metadata": {},
   "outputs": [
    {
     "data": {
      "image/png": "[encoded data removed]",
      "text/plain": [
       "<Figure size 432x288 with 1 Axes>"
      ]
     },
     "metadata": {},
     "output_type": "display_data"
    }
   ],
   "source": [
    "plt.style.use('seaborn-whitegrid')\n",
    "fig = plt.figure()\n",
    "ax = plt.axes()\n",
    "x = range(0,17)\n",
    "ax.plot(x,error_set)\n",
    "plt.xlabel('Epochs')\n",
    "plt.ylabel('MSE loss')\n",
    "plt.show()"
   ]
  },
  {
   "cell_type": "code",
   "execution_count": 29,
   "metadata": {},
   "outputs": [],
   "source": [
    "import pickle\n",
    "with open(r\"network.pickle\", \"wb\") as output_file:\n",
    "    pickle.dump(network, output_file)"
   ]
  },
  {
   "cell_type": "code",
   "execution_count": null,
   "metadata": {},
   "outputs": [],
   "source": []
  }
 ],
 "metadata": {
  "kernelspec": {
   "display_name": "Python 3",
   "language": "python",
   "name": "python3"
  },
  "language_info": {
   "codemirror_mode": {
    "name": "ipython",
    "version": 3
   },
   "file_extension": ".py",
   "mimetype": "text/x-python",
   "name": "python",
   "nbconvert_exporter": "python",
   "pygments_lexer": "ipython3",
   "version": "3.6.7"
  }
 },
 "nbformat": 4,
 "nbformat_minor": 2
}
