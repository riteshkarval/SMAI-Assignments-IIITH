{
 "cells": [
  {
   "cell_type": "markdown",
   "metadata": {},
   "source": [
    "# Part 2 report"
   ]
  },
  {
   "cell_type": "markdown",
   "metadata": {},
   "source": [
    "The kaggle House Price prediction dataset is a dataset for linear regression, so we have to make the following\n",
    "changes to our neural network to perform linear regression. \n",
    "\n",
    "- Remove the activtion from layers for linear pass. \n",
    "- Remove the backpropogarion part with gradient descent where we only have to update weights with respect to error\n",
    "    without calculation the derivative as there is no activation function. \n",
    "- Gradient update rule will be \n",
    "    Wnew = W - error * X * learning_rate\n",
    "    where W is current weight, X is input sample. "
   ]
  }
 ],
 "metadata": {
  "kernelspec": {
   "display_name": "Python 3",
   "language": "python",
   "name": "python3"
  },
  "language_info": {
   "codemirror_mode": {
    "name": "ipython",
    "version": 3
   },
   "file_extension": ".py",
   "mimetype": "text/x-python",
   "name": "python",
   "nbconvert_exporter": "python",
   "pygments_lexer": "ipython3",
   "version": "3.6.7"
  }
 },
 "nbformat": 4,
 "nbformat_minor": 2
}
