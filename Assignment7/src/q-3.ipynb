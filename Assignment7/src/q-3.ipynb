{
 "cells": [
  {
   "cell_type": "markdown",
   "metadata": {},
   "source": [
    "# Analyse how the hyper-parameter λ plays a role in deciding between bias and variance."
   ]
  },
  {
   "cell_type": "markdown",
   "metadata": {},
   "source": [
    "- In both L1 and L2 regularization lambda value imporoved the model by decrement in level but after a certain lambda value the error start to raise again. \n",
    "\n",
    "- Error start to increasing when lamda value crossed 7 in L1 regularizarion and 16 in L2 regularization.\n",
    "\n",
    "- Small lambda value result in high variance. \n",
    "\n",
    "- Increasing lambda result in high bias as the variables become close to zero. \n",
    "\n",
    "- As a result increasing lambda add more variance to the model. "
   ]
  }
 ],
 "metadata": {
  "kernelspec": {
   "display_name": "Python 3",
   "language": "python",
   "name": "python3"
  },
  "language_info": {
   "codemirror_mode": {
    "name": "ipython",
    "version": 3
   },
   "file_extension": ".py",
   "mimetype": "text/x-python",
   "name": "python",
   "nbconvert_exporter": "python",
   "pygments_lexer": "ipython3",
   "version": "3.6.7"
  }
 },
 "nbformat": 4,
 "nbformat_minor": 2
}
