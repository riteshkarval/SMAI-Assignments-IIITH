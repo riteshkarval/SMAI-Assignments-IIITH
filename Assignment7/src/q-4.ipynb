{
 "cells": [
  {
   "cell_type": "markdown",
   "metadata": {},
   "source": [
    "# Analyse how the two different regularisation techniques affect regression weights in terms of their values and what are the differences between the two."
   ]
  },
  {
   "cell_type": "markdown",
   "metadata": {},
   "source": [
    "- The main difference between ridge and lasso regularization is in penalty term, ridge regression we add sum of squared weights multiplied by lambda value. Whereas in lasso we add absolute sum of weights multiplied by lambda vaue as a penalty to the error. \n",
    "\n",
    "- Both the techniques are used to avoid overfitting.\n",
    "\n",
    "- The key difference between these two regularization techniques is that ridge regularization attempts to shrink less important features close to 0, whereas lasso shrinks less important features to zero. "
   ]
  }
 ],
 "metadata": {
  "kernelspec": {
   "display_name": "Python 3",
   "language": "python",
   "name": "python3"
  },
  "language_info": {
   "codemirror_mode": {
    "name": "ipython",
    "version": 3
   },
   "file_extension": ".py",
   "mimetype": "text/x-python",
   "name": "python",
   "nbconvert_exporter": "python",
   "pygments_lexer": "ipython3",
   "version": "3.6.7"
  }
 },
 "nbformat": 4,
 "nbformat_minor": 2
}
