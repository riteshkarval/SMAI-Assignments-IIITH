{
 "cells": [
  {
   "cell_type": "code",
   "execution_count": 33,
   "metadata": {},
   "outputs": [],
   "source": [
    "import pandas as pd\n",
    "import numpy as np\n",
    "from scipy import spatial\n",
    "import seaborn as sns\n",
    "from random import shuffle\n",
    "import matplotlib.pyplot as plt"
   ]
  },
  {
   "cell_type": "code",
   "execution_count": 2,
   "metadata": {},
   "outputs": [],
   "source": [
    "def normalizeColumn(column):\n",
    "    mean = column.mean()\n",
    "    std = column.std()\n",
    "    return (column - mean)/ std"
   ]
  },
  {
   "cell_type": "code",
   "execution_count": 3,
   "metadata": {},
   "outputs": [],
   "source": [
    "dataset = pd.read_csv(\"../input_data/AdmissionDataset/data.csv\")"
   ]
  },
  {
   "cell_type": "code",
   "execution_count": 4,
   "metadata": {},
   "outputs": [],
   "source": [
    "dataset = dataset.drop('Serial No.', axis = 1)\n",
    "dataset['GRE Score'] = normalizeColumn(dataset['GRE Score'])\n",
    "dataset['TOEFL Score'] = normalizeColumn(dataset['TOEFL Score'])\n",
    "dataset['University Rating'] = normalizeColumn(dataset['University Rating'])\n",
    "dataset['LOR '] = normalizeColumn(dataset['LOR '])\n",
    "dataset['CGPA'] = normalizeColumn(dataset['CGPA'])"
   ]
  },
  {
   "cell_type": "code",
   "execution_count": 5,
   "metadata": {},
   "outputs": [],
   "source": [
    "# Adding bias vector to the dataset with values 1"
   ]
  },
  {
   "cell_type": "code",
   "execution_count": 6,
   "metadata": {},
   "outputs": [],
   "source": [
    "dataset.insert(loc=0, column='intercept', value=np.ones(len(dataset)))"
   ]
  },
  {
   "cell_type": "code",
   "execution_count": 7,
   "metadata": {},
   "outputs": [
    {
     "data": {
      "text/html": [
       "<div>\n",
       "<style scoped>\n",
       "    .dataframe tbody tr th:only-of-type {\n",
       "        vertical-align: middle;\n",
       "    }\n",
       "\n",
       "    .dataframe tbody tr th {\n",
       "        vertical-align: top;\n",
       "    }\n",
       "\n",
       "    .dataframe thead th {\n",
       "        text-align: right;\n",
       "    }\n",
       "</style>\n",
       "<table border=\"1\" class=\"dataframe\">\n",
       "  <thead>\n",
       "    <tr style=\"text-align: right;\">\n",
       "      <th></th>\n",
       "      <th>intercept</th>\n",
       "      <th>GRE Score</th>\n",
       "      <th>TOEFL Score</th>\n",
       "      <th>University Rating</th>\n",
       "      <th>SOP</th>\n",
       "      <th>LOR</th>\n",
       "      <th>CGPA</th>\n",
       "      <th>Research</th>\n",
       "      <th>Chance of Admit</th>\n",
       "    </tr>\n",
       "  </thead>\n",
       "  <tbody>\n",
       "    <tr>\n",
       "      <th>0</th>\n",
       "      <td>1.0</td>\n",
       "      <td>0.040384</td>\n",
       "      <td>-0.690991</td>\n",
       "      <td>-0.988084</td>\n",
       "      <td>2.5</td>\n",
       "      <td>-1.597605</td>\n",
       "      <td>-0.713316</td>\n",
       "      <td>0</td>\n",
       "      <td>0.65</td>\n",
       "    </tr>\n",
       "    <tr>\n",
       "      <th>1</th>\n",
       "      <td>1.0</td>\n",
       "      <td>0.216817</td>\n",
       "      <td>0.139084</td>\n",
       "      <td>-0.111086</td>\n",
       "      <td>3.0</td>\n",
       "      <td>0.033837</td>\n",
       "      <td>-0.062724</td>\n",
       "      <td>1</td>\n",
       "      <td>0.71</td>\n",
       "    </tr>\n",
       "    <tr>\n",
       "      <th>2</th>\n",
       "      <td>1.0</td>\n",
       "      <td>0.481468</td>\n",
       "      <td>0.471114</td>\n",
       "      <td>-0.111086</td>\n",
       "      <td>3.5</td>\n",
       "      <td>-1.053791</td>\n",
       "      <td>0.154140</td>\n",
       "      <td>1</td>\n",
       "      <td>0.80</td>\n",
       "    </tr>\n",
       "    <tr>\n",
       "      <th>3</th>\n",
       "      <td>1.0</td>\n",
       "      <td>0.834335</td>\n",
       "      <td>0.969158</td>\n",
       "      <td>1.642909</td>\n",
       "      <td>4.5</td>\n",
       "      <td>0.577651</td>\n",
       "      <td>1.371916</td>\n",
       "      <td>1</td>\n",
       "      <td>0.91</td>\n",
       "    </tr>\n",
       "    <tr>\n",
       "      <th>4</th>\n",
       "      <td>1.0</td>\n",
       "      <td>0.216817</td>\n",
       "      <td>-0.192946</td>\n",
       "      <td>-0.111086</td>\n",
       "      <td>3.5</td>\n",
       "      <td>-1.053791</td>\n",
       "      <td>-0.413043</td>\n",
       "      <td>1</td>\n",
       "      <td>0.74</td>\n",
       "    </tr>\n",
       "  </tbody>\n",
       "</table>\n",
       "</div>"
      ],
      "text/plain": [
       "   intercept  GRE Score  TOEFL Score  University Rating  SOP      LOR   \\\n",
       "0        1.0   0.040384    -0.690991          -0.988084  2.5 -1.597605   \n",
       "1        1.0   0.216817     0.139084          -0.111086  3.0  0.033837   \n",
       "2        1.0   0.481468     0.471114          -0.111086  3.5 -1.053791   \n",
       "3        1.0   0.834335     0.969158           1.642909  4.5  0.577651   \n",
       "4        1.0   0.216817    -0.192946          -0.111086  3.5 -1.053791   \n",
       "\n",
       "       CGPA  Research  Chance of Admit   \n",
       "0 -0.713316         0              0.65  \n",
       "1 -0.062724         1              0.71  \n",
       "2  0.154140         1              0.80  \n",
       "3  1.371916         1              0.91  \n",
       "4 -0.413043         1              0.74  "
      ]
     },
     "execution_count": 7,
     "metadata": {},
     "output_type": "execute_result"
    }
   ],
   "source": [
    "dataset.head()"
   ]
  },
  {
   "cell_type": "code",
   "execution_count": 8,
   "metadata": {},
   "outputs": [
    {
     "data": {
      "text/plain": [
       "Index(['intercept', 'GRE Score', 'TOEFL Score', 'University Rating', 'SOP',\n",
       "       'LOR ', 'CGPA', 'Research', 'Chance of Admit '],\n",
       "      dtype='object')"
      ]
     },
     "execution_count": 8,
     "metadata": {},
     "output_type": "execute_result"
    }
   ],
   "source": [
    "dataset.keys()"
   ]
  },
  {
   "cell_type": "code",
   "execution_count": 9,
   "metadata": {},
   "outputs": [],
   "source": [
    "# Plotting the dataset attributes with respect to output "
   ]
  },
  {
   "cell_type": "code",
   "execution_count": 10,
   "metadata": {},
   "outputs": [],
   "source": [
    "def train_validate_test_split(dataset):\n",
    "    size = len(dataset)\n",
    "    tsize = int(size*0.8)\n",
    "    training_data = dataset.iloc[:tsize].reset_index(drop=True)\n",
    "    testing_data = dataset.iloc[tsize:].reset_index(drop=True)\n",
    "    return training_data,testing_data"
   ]
  },
  {
   "cell_type": "code",
   "execution_count": 11,
   "metadata": {},
   "outputs": [],
   "source": [
    "def predict(X,weights):\n",
    "    return np.dot(X,weights)"
   ]
  },
  {
   "cell_type": "code",
   "execution_count": 12,
   "metadata": {},
   "outputs": [],
   "source": [
    "def meansquareerror(preds,y):\n",
    "    return ((preds - y)**2).mean()"
   ]
  },
  {
   "cell_type": "code",
   "execution_count": 13,
   "metadata": {},
   "outputs": [],
   "source": [
    "def RidgelinearRegressionGD(X,y,weights,lr=0.001,lambdavalue = 0,iteration=1):\n",
    "    for i in range(iteration):\n",
    "        preds = predict(X,weights)\n",
    "        error = meansquareerror(preds,y) + lambdavalue * (np.sum(weights[1:] ** 2))\n",
    "        weights[0] = weights[0] + lr *error\n",
    "        for j in range(1,len(X.columns)):\n",
    "            weights[j] = weights[j] + (lr *error* np.mean(X.iloc[:, [j]].values))\n",
    "    return weights"
   ]
  },
  {
   "cell_type": "code",
   "execution_count": 14,
   "metadata": {},
   "outputs": [],
   "source": [
    "def statistics(weights,data):\n",
    "    X = data.drop('Chance of Admit ',axis=1)\n",
    "    y = data['Chance of Admit ']\n",
    "    preds = predict(X,weights)\n",
    "    cost = meansquareerror(preds,y)\n",
    "    return cost"
   ]
  },
  {
   "cell_type": "code",
   "execution_count": 15,
   "metadata": {},
   "outputs": [],
   "source": [
    "training_data, testing_data = train_validate_test_split(dataset)"
   ]
  },
  {
   "cell_type": "code",
   "execution_count": 16,
   "metadata": {},
   "outputs": [
    {
     "data": {
      "text/plain": [
       "0"
      ]
     },
     "execution_count": 16,
     "metadata": {},
     "output_type": "execute_result"
    }
   ],
   "source": [
    "training_data.index[0]"
   ]
  },
  {
   "cell_type": "code",
   "execution_count": 17,
   "metadata": {},
   "outputs": [],
   "source": [
    "def LOOCV(training_data):\n",
    "    error_train = error_test = 0\n",
    "    for k in range(len(training_data)):\n",
    "        temp_data = training_data\n",
    "        test = temp_data.iloc[[k]]\n",
    "        train = temp_data.drop(temp_data.index[[k]])\n",
    "#         print(train)\n",
    "        X_train = train.drop('Chance of Admit ',axis=1)\n",
    "        y_train = train['Chance of Admit ']\n",
    "        weights = np.zeros((len(X_train.columns)))\n",
    "        weights= RidgelinearRegressionGD(X_train,y_train,weights,lambdavalue=10,iteration = 10)\n",
    "        error_train += statistics(weights,train)\n",
    "        error_test += statistics(weights,test)\n",
    "    error_train = error_train/len(training_data)\n",
    "    error_test = error_test\n",
    "    return error_train, error_test"
   ]
  },
  {
   "cell_type": "code",
   "execution_count": 18,
   "metadata": {},
   "outputs": [],
   "source": [
    "def k_fold_crossvalidation(training_data, k = 2):\n",
    "    chunks = np.array_split(training_data,k)\n",
    "    shuffle(chunks)\n",
    "    error_train = error_test = 0\n",
    "    for i in range(k):\n",
    "        test = chunks[i]\n",
    "        train = pd.DataFrame({})\n",
    "        for j in range(k):\n",
    "            if i != j:\n",
    "                train = pd.concat([train,chunks[j]], ignore_index=True)  \n",
    "        X_train = train.drop('Chance of Admit ',axis=1)\n",
    "        y_train = train['Chance of Admit ']\n",
    "        weights = np.zeros((len(X_train.columns)))\n",
    "        weights= RidgelinearRegressionGD(X_train,y_train,weights,lambdavalue=10,iteration = 10)\n",
    "        error_train += statistics(weights,train)\n",
    "        error_test += statistics(weights,test)\n",
    "    error_train = error_train/k\n",
    "    error_test = error_test/k\n",
    "    return error_train, error_test, weights"
   ]
  },
  {
   "cell_type": "code",
   "execution_count": 23,
   "metadata": {},
   "outputs": [],
   "source": [
    "errors = {'k_value':[],\n",
    "          'train_error':[],\n",
    "            'test_error':[],\n",
    "            'validation_error':[]\n",
    "          }\n",
    "\n",
    "for k in range(2,10):\n",
    "    errors['k_value'].append(k)\n",
    "    error_train, error_val, weights = k_fold_crossvalidation(training_data,k)\n",
    "    errors['train_error'].append(error_train)\n",
    "    errors['validation_error'].append(error_val)\n",
    "    errors['test_error'].append(statistics(weights,testing_data))"
   ]
  },
  {
   "cell_type": "code",
   "execution_count": 20,
   "metadata": {},
   "outputs": [
    {
     "data": {
      "text/plain": [
       "(0.45035870568815356, 162.1830137195615)"
      ]
     },
     "execution_count": 20,
     "metadata": {},
     "output_type": "execute_result"
    }
   ],
   "source": [
    "LOOCV(training_data)"
   ]
  },
  {
   "cell_type": "code",
   "execution_count": 31,
   "metadata": {},
   "outputs": [],
   "source": [
    "df = pd.DataFrame(errors)"
   ]
  },
  {
   "cell_type": "code",
   "execution_count": 36,
   "metadata": {},
   "outputs": [
    {
     "data": {
      "image/png": "[encoded data removed]",
      "text/plain": [
       "<Figure size 432x288 with 1 Axes>"
      ]
     },
     "metadata": {
      "needs_background": "light"
     },
     "output_type": "display_data"
    }
   ],
   "source": [
    "ax = plt.gca()\n",
    "df.plot(kind='line',x='k_value',y='train_error',color = 'green',ax=ax)\n",
    "df.plot(kind='line',x='k_value',y='validation_error', color='red', ax=ax)\n",
    "df.plot(kind='line',x='k_value',y='test_error', color='blue', ax=ax)\n",
    "plt.show()"
   ]
  },
  {
   "cell_type": "code",
   "execution_count": 26,
   "metadata": {},
   "outputs": [
    {
     "data": {
      "text/plain": [
       "<seaborn.axisgrid.PairGrid at 0x7fd2f45a9f98>"
      ]
     },
     "execution_count": 26,
     "metadata": {},
     "output_type": "execute_result"
    },
    {
     "data": {
      "image/png": "[encoded data removed]",
      "text/plain": [
       "<Figure size 720x1080 with 3 Axes>"
      ]
     },
     "metadata": {
      "needs_background": "light"
     },
     "output_type": "display_data"
    }
   ],
   "source": [
    "sns.pairplot(pd.DataFrame(errors), x_vars='k_value', y_vars=['train_error','validation_error','test_error',], height=5, aspect=2)"
   ]
  },
  {
   "cell_type": "markdown",
   "metadata": {},
   "source": [
    "# Observations"
   ]
  },
  {
   "cell_type": "markdown",
   "metadata": {},
   "source": [
    "- The difference between size of training and resampling subsets decrease with the increasing value of K. This decreasing difference reduce the bias of the model. \n",
    "- As in graph it can be seen there is a bias variance trade-off with the value of K. \n",
    "- With empirical experiments we can find a K which can give not too high bias and not too high variance. "
   ]
  }
 ],
 "metadata": {
  "kernelspec": {
   "display_name": "Python 3",
   "language": "python",
   "name": "python3"
  },
  "language_info": {
   "codemirror_mode": {
    "name": "ipython",
    "version": 3
   },
   "file_extension": ".py",
   "mimetype": "text/x-python",
   "name": "python",
   "nbconvert_exporter": "python",
   "pygments_lexer": "ipython3",
   "version": "3.6.7"
  }
 },
 "nbformat": 4,
 "nbformat_minor": 2
}
