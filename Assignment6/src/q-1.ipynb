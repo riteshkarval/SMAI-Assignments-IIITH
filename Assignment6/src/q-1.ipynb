{
 "cells": [
  {
   "cell_type": "code",
   "execution_count": 2,
   "metadata": {},
   "outputs": [],
   "source": [
    "import cv2\n",
    "import matplotlib.pyplot as plt\n",
    "import numpy as np\n",
    "import scipy"
   ]
  },
  {
   "cell_type": "code",
   "execution_count": 3,
   "metadata": {},
   "outputs": [
    {
     "data": {
      "text/plain": [
       "(32, 32, 3)"
      ]
     },
     "execution_count": 3,
     "metadata": {},
     "output_type": "execute_result"
    }
   ],
   "source": [
    "im = cv2.imread('../input_data/sample.png')/255\n",
    "im.shape"
   ]
  },
  {
   "cell_type": "code",
   "execution_count": 4,
   "metadata": {},
   "outputs": [],
   "source": [
    "kernel_size = 5\n",
    "c1_kernel_count = 6\n",
    "c3_kernel_count = 16\n",
    "c5_kernel_count = 120\n",
    "if len(im.shape) > 2:\n",
    "    channels = im.shape[2]\n",
    "else:\n",
    "    channels = 1\n",
    "poolsize = 2\n",
    "stride = 2"
   ]
  },
  {
   "cell_type": "code",
   "execution_count": 5,
   "metadata": {
    "scrolled": true
   },
   "outputs": [
    {
     "data": {
      "text/plain": [
       "<matplotlib.image.AxesImage at 0x7ff4790f4d68>"
      ]
     },
     "execution_count": 5,
     "metadata": {},
     "output_type": "execute_result"
    },
    {
     "data": {
      "image/png": "[encoded data removed]",
      "text/plain": [
       "<Figure size 432x288 with 1 Axes>"
      ]
     },
     "metadata": {
      "needs_background": "light"
     },
     "output_type": "display_data"
    }
   ],
   "source": [
    "plt.imshow(im)"
   ]
  },
  {
   "cell_type": "code",
   "execution_count": 50,
   "metadata": {},
   "outputs": [],
   "source": [
    "def tanh(x):\n",
    "    return (2/(1+np.exp(-2*x))) - 1"
   ]
  },
  {
   "cell_type": "code",
   "execution_count": 7,
   "metadata": {},
   "outputs": [],
   "source": [
    "def softmax(x):\n",
    "    e_x = np.exp(x - np.max(x))\n",
    "    return e_x / e_x.sum(axis=0)"
   ]
  },
  {
   "cell_type": "code",
   "execution_count": 8,
   "metadata": {},
   "outputs": [],
   "source": [
    "def ReLu(feature):\n",
    "    h, w = feature.shape\n",
    "    for i in range(h):\n",
    "        for j in range(w):\n",
    "            if feature[i,j] < 0:\n",
    "                feature[i,j] = 0\n",
    "    return feature"
   ]
  },
  {
   "cell_type": "code",
   "execution_count": 9,
   "metadata": {},
   "outputs": [],
   "source": [
    "def convolution(image, kernel,bias):\n",
    "    i_size, _ = image.shape\n",
    "    k_size, _ = kernel.shape\n",
    "    o_size = i_size - k_size +1\n",
    "    fimage = np.zeros((o_size,o_size))\n",
    "    for i in range(o_size):\n",
    "        for j in range(o_size):\n",
    "            temp = image[i:k_size+i, j:k_size+j]\n",
    "            fimage[i,j] = np.sum(np.multiply(temp,kernel)) + bias\n",
    "    return fimage"
   ]
  },
  {
   "cell_type": "code",
   "execution_count": 10,
   "metadata": {},
   "outputs": [],
   "source": [
    "def maxpool(image, poolsize, stride):\n",
    "    i_size, _ = image.shape\n",
    "    o_size = int(np.floor((i_size - poolsize)/stride) + 1)\n",
    "    fimage = np.zeros((o_size,o_size))\n",
    "    for i in range(0,o_size,stride):\n",
    "        for j in range(0,o_size,stride):\n",
    "            temp = image[i:poolsize+i, j:poolsize+j]\n",
    "            fimage[i,j] = np.amax(temp)\n",
    "    return fimage"
   ]
  },
  {
   "cell_type": "markdown",
   "metadata": {},
   "source": [
    "# First convolution with ReLu activation  C1"
   ]
  },
  {
   "cell_type": "code",
   "execution_count": 12,
   "metadata": {},
   "outputs": [],
   "source": [
    "c1_kernels = np.random.rand(c1_kernel_count,kernel_size,kernel_size,channels)\n",
    "c1_bias = np.random.rand(c1_kernel_count)"
   ]
  },
  {
   "cell_type": "code",
   "execution_count": 17,
   "metadata": {},
   "outputs": [
    {
     "name": "stdout",
     "output_type": "stream",
     "text": [
      "(6, 28, 28)\n"
     ]
    }
   ],
   "source": [
    "c1_featuremaps = []\n",
    "for i in range(c1_kernel_count):\n",
    "    i_size, _,_ = im.shape\n",
    "    k_size, _ ,_= c1_kernels[i].shape\n",
    "    o_size = i_size - k_size +1\n",
    "    conv = np.zeros((o_size,o_size))\n",
    "    for j in range(channels):\n",
    "        conv += convolution(im[:,:,j],c1_kernels[i][:,:,j], c1_bias[i])\n",
    "    conv = ReLu(conv)\n",
    "    c1_featuremaps.append(conv)\n",
    "c1_featuremaps = np.asarray(c1_featuremaps)\n",
    "print(c1_featuremaps.shape)"
   ]
  },
  {
   "cell_type": "code",
   "execution_count": 19,
   "metadata": {},
   "outputs": [
    {
     "data": {
      "text/plain": [
       "<matplotlib.image.AxesImage at 0x7ff47888f7b8>"
      ]
     },
     "execution_count": 19,
     "metadata": {},
     "output_type": "execute_result"
    },
    {
     "data": {
      "image/png": "[encoded data removed]",
      "text/plain": [
       "<Figure size 432x288 with 1 Axes>"
      ]
     },
     "metadata": {
      "needs_background": "light"
     },
     "output_type": "display_data"
    }
   ],
   "source": [
    "plt.imshow(c1_featuremaps[4].astype('int'))"
   ]
  },
  {
   "cell_type": "markdown",
   "metadata": {},
   "source": [
    "# Maxpooling/subsampling/downsampling on convolution layer output S2"
   ]
  },
  {
   "cell_type": "code",
   "execution_count": 22,
   "metadata": {},
   "outputs": [
    {
     "name": "stdout",
     "output_type": "stream",
     "text": [
      "(6, 14, 14)\n"
     ]
    }
   ],
   "source": [
    "s2_featuremaps = []\n",
    "for i in range(len(c1_featuremaps)):\n",
    "    maxp = maxpool(c1_featuremaps[i],poolsize,stride)\n",
    "    s2_featuremaps.append(maxp)\n",
    "s2_featuremaps = np.asarray(s2_featuremaps)\n",
    "print(s2_featuremaps.shape)"
   ]
  },
  {
   "cell_type": "code",
   "execution_count": 24,
   "metadata": {},
   "outputs": [
    {
     "data": {
      "text/plain": [
       "<matplotlib.image.AxesImage at 0x7ff478fc0198>"
      ]
     },
     "execution_count": 24,
     "metadata": {},
     "output_type": "execute_result"
    },
    {
     "data": {
      "image/png": "[encoded data removed]",
      "text/plain": [
       "<Figure size 432x288 with 1 Axes>"
      ]
     },
     "metadata": {
      "needs_background": "light"
     },
     "output_type": "display_data"
    }
   ],
   "source": [
    "plt.imshow(s2_featuremaps[4].astype('int'))"
   ]
  },
  {
   "cell_type": "code",
   "execution_count": 26,
   "metadata": {},
   "outputs": [],
   "source": [
    "c3_kernels = np.random.rand(c3_kernel_count,kernel_size,kernel_size,len(s2_featuremaps))\n",
    "c3_bias = np.random.rand(c3_kernel_count)"
   ]
  },
  {
   "cell_type": "markdown",
   "metadata": {},
   "source": [
    "# Second Convolution layer with ReLu activation C3"
   ]
  },
  {
   "cell_type": "code",
   "execution_count": 30,
   "metadata": {},
   "outputs": [
    {
     "name": "stdout",
     "output_type": "stream",
     "text": [
      "(16, 10, 10)\n"
     ]
    }
   ],
   "source": [
    "c3_featuremaps = []\n",
    "i_size, _= s2_featuremaps[0].shape\n",
    "k_size, _ ,_= c3_kernels[0].shape\n",
    "o_size = i_size - k_size +1\n",
    "for i in range(c3_kernel_count):\n",
    "    conv = np.zeros((o_size,o_size))\n",
    "    for j in range(len(s2_featuremaps)):\n",
    "        for k in range(channels):\n",
    "            conv += convolution(s2_featuremaps[j],c3_kernels[i][:,:,k], c3_bias[i])\n",
    "    conv = ReLu(conv)\n",
    "    c3_featuremaps.append(conv)\n",
    "c3_featuremaps = np.asarray(c3_featuremaps)\n",
    "print(c3_featuremaps.shape)"
   ]
  },
  {
   "cell_type": "code",
   "execution_count": 31,
   "metadata": {},
   "outputs": [
    {
     "data": {
      "text/plain": [
       "<matplotlib.image.AxesImage at 0x7ff478eea550>"
      ]
     },
     "execution_count": 31,
     "metadata": {},
     "output_type": "execute_result"
    },
    {
     "data": {
      "image/png": "[encoded data removed]",
      "text/plain": [
       "<Figure size 432x288 with 1 Axes>"
      ]
     },
     "metadata": {
      "needs_background": "light"
     },
     "output_type": "display_data"
    }
   ],
   "source": [
    "plt.imshow(c3_featuremaps[4].astype('int'))"
   ]
  },
  {
   "cell_type": "markdown",
   "metadata": {},
   "source": [
    "# Second maxpool layer S4"
   ]
  },
  {
   "cell_type": "code",
   "execution_count": 32,
   "metadata": {},
   "outputs": [
    {
     "name": "stdout",
     "output_type": "stream",
     "text": [
      "(16, 5, 5)\n"
     ]
    }
   ],
   "source": [
    "s4_featuremaps = []\n",
    "for i in range(len(c3_featuremaps)):\n",
    "    maxp = maxpool(c3_featuremaps[i],poolsize,stride)\n",
    "    s4_featuremaps.append(maxp)\n",
    "s4_featuremaps = np.asarray(s4_featuremaps)\n",
    "print(s4_featuremaps.shape)"
   ]
  },
  {
   "cell_type": "code",
   "execution_count": 156,
   "metadata": {},
   "outputs": [
    {
     "data": {
      "text/plain": [
       "<matplotlib.image.AxesImage at 0x7fa155deef98>"
      ]
     },
     "execution_count": 156,
     "metadata": {},
     "output_type": "execute_result"
    },
    {
     "data": {
      "image/png": "[encoded data removed]",
      "text/plain": [
       "<Figure size 432x288 with 1 Axes>"
      ]
     },
     "metadata": {
      "needs_background": "light"
     },
     "output_type": "display_data"
    }
   ],
   "source": [
    "plt.imshow(s4_featuremaps[4].astype('int'))"
   ]
  },
  {
   "cell_type": "markdown",
   "metadata": {},
   "source": [
    "# Third Convolution layer C5"
   ]
  },
  {
   "cell_type": "code",
   "execution_count": 33,
   "metadata": {},
   "outputs": [],
   "source": [
    "c5_kernels = np.random.rand(c5_kernel_count,kernel_size,kernel_size,len(s4_featuremaps))\n",
    "c5_bias = np.random.rand(c5_kernel_count)"
   ]
  },
  {
   "cell_type": "code",
   "execution_count": 40,
   "metadata": {},
   "outputs": [
    {
     "name": "stdout",
     "output_type": "stream",
     "text": [
      "(120, 1, 1)\n"
     ]
    }
   ],
   "source": [
    "c5_featuremaps = []\n",
    "i_size, _= s4_featuremaps[0].shape\n",
    "k_size, _ ,_= c5_kernels[0].shape\n",
    "o_size = i_size - k_size +1\n",
    "for i in range(c5_kernel_count):\n",
    "    conv = np.zeros((o_size,o_size))\n",
    "    for j in range(len(s4_featuremaps)):\n",
    "        for k in range(channels):\n",
    "            conv += convolution(s4_featuremaps[j],c5_kernels[i][:,:,k], c5_bias[i])\n",
    "    conv = ReLu(conv)\n",
    "    c5_featuremaps.append(conv)\n",
    "c5_featuremaps = np.asarray(c5_featuremaps)\n",
    "print(c5_featuremaps.shape)"
   ]
  },
  {
   "cell_type": "code",
   "execution_count": 41,
   "metadata": {},
   "outputs": [
    {
     "data": {
      "text/plain": [
       "<matplotlib.image.AxesImage at 0x7ff478e71f98>"
      ]
     },
     "execution_count": 41,
     "metadata": {},
     "output_type": "execute_result"
    },
    {
     "data": {
      "image/png": "[encoded data removed]",
      "text/plain": [
       "<Figure size 432x288 with 1 Axes>"
      ]
     },
     "metadata": {
      "needs_background": "light"
     },
     "output_type": "display_data"
    }
   ],
   "source": [
    "plt.imshow(c5_featuremaps[4].astype('int'))"
   ]
  },
  {
   "cell_type": "code",
   "execution_count": 64,
   "metadata": {},
   "outputs": [
    {
     "data": {
      "text/plain": [
       "(120,)"
      ]
     },
     "execution_count": 64,
     "metadata": {},
     "output_type": "execute_result"
    }
   ],
   "source": [
    "c5_featuremaps = np.asarray(c5_featuremaps).flatten()\n",
    "c5_featuremaps.shape"
   ]
  },
  {
   "cell_type": "markdown",
   "metadata": {},
   "source": [
    "# Fully connected layer F6"
   ]
  },
  {
   "cell_type": "code",
   "execution_count": 51,
   "metadata": {},
   "outputs": [],
   "source": [
    "f6_weights = np.random.rand(c5_featuremaps.shape[0],84)\n",
    "f6_bias = np.random.rand(84)\n",
    "f6_out = tanh(np.dot(c5_featuremaps,f6_weights) + f6_bias)\n",
    "# f6_out = np.dot(c5_featuremaps,f6_weights) + f6_bias"
   ]
  },
  {
   "cell_type": "code",
   "execution_count": 62,
   "metadata": {},
   "outputs": [
    {
     "data": {
      "text/plain": [
       "(84,)"
      ]
     },
     "execution_count": 62,
     "metadata": {},
     "output_type": "execute_result"
    }
   ],
   "source": [
    "f6_out.shape"
   ]
  },
  {
   "cell_type": "markdown",
   "metadata": {},
   "source": [
    "# Output layer"
   ]
  },
  {
   "cell_type": "code",
   "execution_count": 54,
   "metadata": {},
   "outputs": [],
   "source": [
    "out_weights = np.random.normal(0,0.001,size=(84,10))\n",
    "out_bias = np.random.normal(0,0.001,size=(10))\n",
    "output = softmax(np.dot(f6_out,out_weights) + out_bias)"
   ]
  },
  {
   "cell_type": "code",
   "execution_count": 55,
   "metadata": {},
   "outputs": [
    {
     "name": "stdout",
     "output_type": "stream",
     "text": [
      "[0.09874535 0.10014417 0.09945531 0.10040046 0.1007218  0.10062907\n",
      " 0.10060573 0.10113653 0.09922703 0.09893455]\n",
      "10\n"
     ]
    }
   ],
   "source": [
    "print(output)\n",
    "print(len(output))"
   ]
  },
  {
   "cell_type": "code",
   "execution_count": 60,
   "metadata": {},
   "outputs": [
    {
     "name": "stdout",
     "output_type": "stream",
     "text": [
      "Network:\n",
      "\n",
      "(32, 32, 3) --> (6, 28, 28) --> (6, 14, 14) --> (16, 10, 10) --> (16, 5, 5)\n",
      "--> (120,) --> (84,) --> (10,)\n"
     ]
    }
   ],
   "source": [
    "print(\"Network:\\n\")\n",
    "print(im.shape,'-->',c1_featuremaps.shape,'-->',s2_featuremaps.shape,'-->',c3_featuremaps.shape,'-->',s4_featuremaps.shape)\n",
    "print('-->',c5_featuremaps.shape,'-->',f6_out.shape,'-->',output.shape)"
   ]
  }
 ],
 "metadata": {
  "kernelspec": {
   "display_name": "Python 3",
   "language": "python",
   "name": "python3"
  },
  "language_info": {
   "codemirror_mode": {
    "name": "ipython",
    "version": 3
   },
   "file_extension": ".py",
   "mimetype": "text/x-python",
   "name": "python",
   "nbconvert_exporter": "python",
   "pygments_lexer": "ipython3",
   "version": "3.6.7"
  }
 },
 "nbformat": 4,
 "nbformat_minor": 2
}
