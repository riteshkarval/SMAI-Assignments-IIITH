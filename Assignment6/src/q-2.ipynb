{
 "cells": [
  {
   "cell_type": "markdown",
   "metadata": {},
   "source": [
    "# 1- What are the number of parameters in 1st convolutional layers ?\n"
   ]
  },
  {
   "cell_type": "markdown",
   "metadata": {},
   "source": [
    "5 * 5 * 3 * 6 + 6 = 756"
   ]
  },
  {
   "cell_type": "markdown",
   "metadata": {},
   "source": [
    "# 2. What are the number of parameters in pooling operation?"
   ]
  },
  {
   "cell_type": "markdown",
   "metadata": {},
   "source": [
    "In q-1 maxpooling has been used as a part of pooling operation. In maxpooling we slide the window of size of pool on the feature and pick the maximum element in the window at a time during slide. \n",
    "\n",
    "pool_out = max(feature[i,j],feature[i,j+1],feature[i+1,j],feature[i+1,j+1])\n",
    "\n",
    "there is no learning parameter in maxpooling. "
   ]
  },
  {
   "cell_type": "markdown",
   "metadata": {},
   "source": [
    "# 3. Which of the following operations contain most number of parameters?"
   ]
  },
  {
   "cell_type": "markdown",
   "metadata": {},
   "source": [
    "Convolution-5 i.e c5 in LeNet architecture has most no. of parameters. \n",
    "((5 * 5 * 6) * 16 + 16 ) = 48120"
   ]
  },
  {
   "cell_type": "markdown",
   "metadata": {},
   "source": [
    "# 4. Which operation consume most amount of memory?"
   ]
  },
  {
   "cell_type": "markdown",
   "metadata": {},
   "source": [
    "Convolution operation takes more memory as it has so many matrix dot products and weight and bias addition too. "
   ]
  },
  {
   "cell_type": "markdown",
   "metadata": {},
   "source": [
    "# 5. Try different activation functions and describe observations."
   ]
  },
  {
   "cell_type": "markdown",
   "metadata": {},
   "source": [
    "In convolution layers using Tanh or sigmoid activation resulted in dark images means all the pixel values squashed near to zero. ReLu is suitable when doing convolutions. "
   ]
  }
 ],
 "metadata": {
  "kernelspec": {
   "display_name": "Python 3",
   "language": "python",
   "name": "python3"
  },
  "language_info": {
   "codemirror_mode": {
    "name": "ipython",
    "version": 3
   },
   "file_extension": ".py",
   "mimetype": "text/x-python",
   "name": "python",
   "nbconvert_exporter": "python",
   "pygments_lexer": "ipython3",
   "version": "3.6.7"
  }
 },
 "nbformat": 4,
 "nbformat_minor": 2
}
